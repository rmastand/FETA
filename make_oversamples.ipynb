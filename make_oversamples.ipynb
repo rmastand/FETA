{
 "cells": [
  {
   "cell_type": "code",
   "execution_count": 1,
   "id": "7d3f5f74",
   "metadata": {},
   "outputs": [],
   "source": [
    "!pip install pyyaml\n",
    "import matplotlib.pyplot as plt\n",
    "import matplotlib\n",
    "import numpy as np\n",
    "\n",
    "import torch\n",
    "import os\n",
    "from numba import cuda \n",
    "\n",
    "from helpers.composite_helpers import *"
   ]
  },
  {
   "cell_type": "code",
   "execution_count": null,
   "id": "388471f8-262f-4da6-b01b-08c937352a6f",
   "metadata": {},
   "outputs": [],
   "source": [
    "import yaml\n",
    "with open(\"workflow.yaml\", \"r\") as file:\n",
    "    workflow = yaml.safe_load(file)"
   ]
  },
  {
   "cell_type": "code",
   "execution_count": 2,
   "id": "614b77c6",
   "metadata": {},
   "outputs": [
    {
     "name": "stdout",
     "output_type": "stream",
     "text": [
      "Using device: cuda\n"
     ]
    }
   ],
   "source": [
    " os.environ[\"CUDA_VISIBLE_DEVICES\"]=\"2\"\n",
    "\n",
    "device = cuda.get_current_device()\n",
    "device.reset()\n",
    "\n",
    "# set the number of threads that pytorch will use\n",
    "torch.set_num_threads(2)\n",
    "\n",
    "# set gpu device\n",
    "device = torch.device( \"cuda\" if torch.cuda.is_available() else \"cpu\")\n",
    "print( \"Using device: \" + str( device ), flush=True)\n",
    "\n",
    "oversample = 6\n",
    "num_signal_to_inject = 1500\n",
    "seed = 2\n",
    "n_features = 5\n",
    "\n",
    "\n",
    "feta_dir = \"/global/home/users/rrmastandrea/FETA/\"\n",
    "\n",
    "#dataset_config_string = f\"LHCO_{num_signal_to_inject}sig_f/\"\n",
    "dataset_config_string = \"LHCO_{num_signal_to_inject}sig_{project_id}/\".format(num_signal_to_inject = num_signal_to_inject, project_id = workflow[\"project_id\"] )\n",
    "\n",
    "exp_dir = os.path.join(feta_dir, dataset_config_string)\n",
    "#data_dir = f\"/global/ml4hep/spss/rrmastandrea/synthsamp_LHCOinput_{project_id}/nsig_{num_signal_to_inject}/data/\"\n",
    "data_dir = os.path.join(exp_dir, \"data\")"
   ]
  },
  {
   "cell_type": "code",
   "execution_count": 3,
   "id": "8dac7d85",
   "metadata": {},
   "outputs": [],
   "source": [
    "classif_train_sim = ToyDataset(data_dir, \"classif_train_sim.npy\")\n",
    "classif_train_dat = ToyDataset(data_dir, \"classif_train_dat.npy\")\n",
    "\n",
    "# load in the reverse rescales\n",
    "path_to_minmax = \"/global/home/users/rrmastandrea/FETA/LHCO_STS_{project_id}/data/col_minmax.npy\".format(project_id = workflow[\"project_id\"]) )\n",
    "col_minmax = np.load(path_to_minmax)\n",
    "\n",
    "# dataset generation parameters\n",
    "bands_dict = workflow[\"bands_dict\"]"
   ]
  },
  {
   "cell_type": "code",
   "execution_count": 4,
   "id": "eaecba3c",
   "metadata": {},
   "outputs": [],
   "source": [
    "num_layers_BD_sim = 1\n",
    "num_hidden_features_BD_sim = 128\n",
    "num_blocks = 15\n",
    "\n",
    "hyperparameters_dict_BD_sim = {\"n_epochs\":100,\n",
    "                              \"batch_size\": 128,\n",
    "                              \"lr\": 0.0001,\n",
    "                              \"weight_decay\": 0.0001}\n",
    "\n",
    "\n",
    "loc_id_BD_sim = f\"BD_sim_Masked_PRQ_AR_{num_layers_BD_sim}layers_{num_hidden_features_BD_sim}hidden_{num_blocks}blocks_{seed}seed\"\n",
    "BD_sim_training_dir = os.path.join(exp_dir, f\"saved_models_{loc_id_BD_sim}/\")\n",
    "BD_sim_samples_dir = os.path.join(BD_sim_training_dir, f\"npy_samples/\")\n",
    "\n",
    "config_string_BD_sim = \"epochs{0}_lr{1}_wd{2}_bs{3}\".format(hyperparameters_dict_BD_sim[\"n_epochs\"], hyperparameters_dict_BD_sim[\"lr\"], hyperparameters_dict_BD_sim[\"weight_decay\"], hyperparameters_dict_BD_sim[\"batch_size\"])\n",
    "checkpoint_path_BD_sim = os.path.join(BD_sim_training_dir, f\"BDSIM_{config_string_BD_sim}\")\n",
    "\n",
    "\n",
    "num_stack_s2d = 8\n",
    "num_hidden_layers_s2d = 2\n",
    "num_hidden_features_s2d = 32\n",
    "num_bins_s2d = 10\n",
    "\n",
    "\n",
    "hyperparameters_dict_dat_props = {\"n_epochs\": 50,\n",
    "                          \"batch_size\": 256,\n",
    "                          \"lr\": 0.0005,\n",
    "                          \"weight_decay\": 0.0001}\n",
    "\n",
    "\n",
    "loc_id_s2d = f\"PRQ_Coupling_{num_stack_s2d}layers_{num_hidden_layers_s2d}hiddenlayers_{num_hidden_features_s2d}hiddenfeatures_{num_bins_s2d}bins_{seed}seed\"\n",
    "# training dir is inside the BD dir\n",
    "dat_props_dir = os.path.join(BD_sim_training_dir, f\"saved_models_{loc_id_s2d}/\")\n",
    "oversampling_dir = os.path.join(dat_props_dir, f\"oversampling_{oversample}/\") \n",
    "\n",
    "os.makedirs(oversampling_dir, exist_ok = True)\n"
   ]
  },
  {
   "cell_type": "code",
   "execution_count": 5,
   "id": "846e2201",
   "metadata": {},
   "outputs": [
    {
     "name": "stdout",
     "output_type": "stream",
     "text": [
      "Loading the models ...\n",
      "\n",
      "Oversampling: 6\n",
      "(121978, 6) (731868, 6) (122536, 6)\n"
     ]
    }
   ],
   "source": [
    "\n",
    "# Load in BD and s2d models\n",
    "config_string_BD_sim = \"epochs{0}_lr{1}_wd{2}_bs{3}\".format(hyperparameters_dict_BD_sim[\"n_epochs\"], hyperparameters_dict_BD_sim[\"lr\"], hyperparameters_dict_BD_sim[\"weight_decay\"], hyperparameters_dict_BD_sim[\"batch_size\"])\n",
    "config_string_dat_props = \"epochs{0}_lr{1}_wd{2}_bs{3}\".format(hyperparameters_dict_dat_props[\"n_epochs\"], hyperparameters_dict_dat_props[\"lr\"], hyperparameters_dict_dat_props[\"weight_decay\"], hyperparameters_dict_dat_props[\"batch_size\"])\n",
    "\n",
    "checkpoint_path_BD_sim = os.path.join(BD_sim_training_dir, f\"BDSIM_{config_string_BD_sim}\")\n",
    "checkpoint_path_dat_props = os.path.join(dat_props_dir, f\"TRANS_{config_string_dat_props}\")\n",
    "\n",
    "\n",
    "print(\"Loading the models ...\")\n",
    "print()\n",
    "flow_BD_sim = torch.load(f\"{checkpoint_path_BD_sim}_best_model.pt\")\n",
    "flow_dat_props = torch.load(f\"{checkpoint_path_dat_props}_best_model.pt\")\n",
    "\n",
    "# send networks to device\n",
    "flow_BD_sim.to(device)\n",
    "flow_dat_props.to(device)\n",
    "\n",
    "# freeze the trained models\n",
    "for param in flow_BD_sim.parameters():\n",
    "    param.requires_grad = False\n",
    "flow_BD_sim.eval()\n",
    "\n",
    "for param in flow_dat_props.parameters():\n",
    "    param.requires_grad = False\n",
    "flow_dat_props.eval()\n",
    "\n",
    "\n",
    "bands_to_sample = [\"sr\"]\n",
    "\n",
    "\n",
    "# Apply the flow to BD\n",
    "SB_sim_samples, SB_BD_samples = make_BD_samples_dict(bands_to_sample, bands_dict, n_features, classif_train_sim, col_minmax, flow_BD_sim, device, oversample)\n",
    "SB_trans_BD_samples = transform_sim_to_dat_2step(flow_dat_props, SB_BD_samples, device)\n",
    "SB_trans_BD_samples = np.hstack((SB_trans_BD_samples, np.reshape(SB_BD_samples[:,-1], (-1, 1))))\n",
    "\n",
    "bands_edges = [bands_dict[band] for band in bands_to_sample]\n",
    "SB_dat_samples = classif_train_dat.pull_from_mass_range(bands_edges)\n",
    "SB_dat_samples = minmaxscale(SB_dat_samples.data, col_minmax, lower = -3, upper = 3, forward = True)\n",
    "\n",
    "\n",
    "print(SB_sim_samples.shape, SB_trans_BD_samples.shape, SB_dat_samples.shape)\n",
    "\n",
    "# BD\n",
    "np.save(os.path.join(oversampling_dir, f\"BD.npy\"), SB_BD_samples)\n",
    "\n",
    "# transBD\n",
    "np.save(os.path.join(oversampling_dir, f\"transBD.npy\"), SB_trans_BD_samples)\n",
    "\n",
    "# dat_sideband\n",
    "np.save(os.path.join(oversampling_dir, f\"DAT_SB.npy\"), SB_dat_samples)\n",
    "\n"
   ]
  },
  {
   "cell_type": "code",
   "execution_count": null,
   "id": "697501ba",
   "metadata": {},
   "outputs": [],
   "source": []
  },
  {
   "cell_type": "code",
   "execution_count": null,
   "id": "aa692874",
   "metadata": {},
   "outputs": [],
   "source": []
  },
  {
   "cell_type": "code",
   "execution_count": null,
   "id": "5cdc441e",
   "metadata": {},
   "outputs": [],
   "source": []
  },
  {
   "cell_type": "code",
   "execution_count": null,
   "id": "6a4f521b",
   "metadata": {},
   "outputs": [],
   "source": []
  },
  {
   "cell_type": "code",
   "execution_count": null,
   "id": "915cf6cc",
   "metadata": {},
   "outputs": [],
   "source": []
  },
  {
   "cell_type": "code",
   "execution_count": null,
   "id": "dd27b85d",
   "metadata": {},
   "outputs": [],
   "source": []
  },
  {
   "cell_type": "code",
   "execution_count": null,
   "id": "3d850999",
   "metadata": {},
   "outputs": [],
   "source": []
  },
  {
   "cell_type": "code",
   "execution_count": null,
   "id": "6e8f97b2",
   "metadata": {},
   "outputs": [],
   "source": []
  },
  {
   "cell_type": "code",
   "execution_count": null,
   "id": "ff1a04a8",
   "metadata": {},
   "outputs": [],
   "source": []
  },
  {
   "cell_type": "code",
   "execution_count": null,
   "id": "cb872dc4",
   "metadata": {},
   "outputs": [],
   "source": []
  },
  {
   "cell_type": "code",
   "execution_count": null,
   "id": "8e72fa73",
   "metadata": {},
   "outputs": [],
   "source": []
  },
  {
   "cell_type": "code",
   "execution_count": null,
   "id": "42ce3cfa",
   "metadata": {},
   "outputs": [],
   "source": []
  },
  {
   "cell_type": "code",
   "execution_count": null,
   "id": "06359112",
   "metadata": {},
   "outputs": [],
   "source": []
  },
  {
   "cell_type": "code",
   "execution_count": null,
   "id": "d53e69df",
   "metadata": {},
   "outputs": [],
   "source": []
  },
  {
   "cell_type": "code",
   "execution_count": null,
   "id": "e2985f23",
   "metadata": {},
   "outputs": [],
   "source": []
  },
  {
   "cell_type": "code",
   "execution_count": null,
   "id": "eca402f9",
   "metadata": {},
   "outputs": [],
   "source": []
  },
  {
   "cell_type": "code",
   "execution_count": null,
   "id": "c28aad47",
   "metadata": {},
   "outputs": [],
   "source": []
  },
  {
   "cell_type": "code",
   "execution_count": null,
   "id": "2f51ab69",
   "metadata": {},
   "outputs": [],
   "source": []
  },
  {
   "cell_type": "code",
   "execution_count": null,
   "id": "55be633a",
   "metadata": {},
   "outputs": [],
   "source": []
  },
  {
   "cell_type": "code",
   "execution_count": null,
   "id": "a4a56623",
   "metadata": {},
   "outputs": [],
   "source": []
  }
 ],
 "metadata": {
  "kernelspec": {
   "display_name": "Python 3",
   "language": "python",
   "name": "python3"
  },
  "language_info": {
   "codemirror_mode": {
    "name": "ipython",
    "version": 3
   },
   "file_extension": ".py",
   "mimetype": "text/x-python",
   "name": "python",
   "nbconvert_exporter": "python",
   "pygments_lexer": "ipython3",
   "version": "3.8.13"
  }
 },
 "nbformat": 4,
 "nbformat_minor": 5
}
