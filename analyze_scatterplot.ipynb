{
 "cells": [
  {
   "cell_type": "code",
   "execution_count": 1,
   "id": "cd41c0c0",
   "metadata": {},
   "outputs": [],
   "source": [
    "#!/usr/bin/env python\n",
    "# coding: utf-8\n",
    "\n",
    "import matplotlib.pyplot as plt\n",
    "import matplotlib\n",
    "import numpy as np\n",
    "import torch\n",
    "import os\n",
    "from numba import cuda \n",
    "\n",
    "from helpers.composite_helpers import *\n",
    "\n",
    "plt.style.use(\"science.mplstyle\")\n",
    "dpi = 800"
   ]
  },
  {
   "cell_type": "code",
   "execution_count": null,
   "id": "38d77572",
   "metadata": {},
   "outputs": [],
   "source": [
    "feta_dir = \"global/home/users/rrmastandrea/FETA\"\n",
    "scatterplot_dir = os.path.join(feta_dir, \"scatterplot_results\")"
   ]
  },
  {
   "cell_type": "markdown",
   "id": "b968a96c",
   "metadata": {},
   "source": [
    "## Visualize the scatterplots \n",
    "\n",
    "First run ```run_scatterplot.py```"
   ]
  },
  {
   "cell_type": "code",
   "execution_count": null,
   "id": "d8649b9c",
   "metadata": {},
   "outputs": [],
   "source": [
    "# Load in the data\n",
    "\n",
    "num_signal_to_inject = 0\n",
    "\n",
    "\n",
    "feta_results = np.load(f\"{scatterplot_dir}/feta_results_{num_signal_to_inject}.npy\")\n",
    "cathode_results = np.load(f\"{scatterplot_dir}/cathode_results_{num_signal_to_inject}.npy\")\n",
    "curtains_results = np.load(f\"{scatterplot_dir}/curtains_results_{num_signal_to_inject}.npy\")\n",
    "\n",
    "full_sup_results = np.load(f\"{scatterplot_dir}/full_sup_results_{num_signal_to_inject}.npy\")"
   ]
  },
  {
   "cell_type": "code",
   "execution_count": null,
   "id": "652fb1c1",
   "metadata": {},
   "outputs": [],
   "source": [
    "# standardize the data\n",
    "\n",
    "def standardize(x):\n",
    "    return (x - np.mean(x))/np.std(x)\n",
    "\n",
    "stand_feta = standardize(feta_results)\n",
    "stand_cathode = standardize(cathode_results)\n",
    "stand_curtains = standardize(curtains_results)\n",
    "stand_full_sup = standardize(full_sup_results)\n",
    " "
   ]
  },
  {
   "cell_type": "code",
   "execution_count": null,
   "id": "122941d1",
   "metadata": {
    "scrolled": false
   },
   "outputs": [],
   "source": [
    "\n",
    "plt.figure()\n",
    "plt.hist(full_sup_results[:20000], bins = 50, histtype = \"step\", label = \"Background\")\n",
    "plt.hist(full_sup_results[20000:], bins = 50, histtype = \"step\", label = \"Signal\")\n",
    "plt.legend()\n",
    "plt.show()\n"
   ]
  },
  {
   "cell_type": "code",
   "execution_count": null,
   "id": "e9a058eb",
   "metadata": {
    "scrolled": false
   },
   "outputs": [],
   "source": [
    "\n",
    "nn = 2000\n",
    "ll = 5\n",
    "\n",
    "fig = plt.figure(figsize = (5, 5))\n",
    "\n",
    "plt.scatter(stand_feta[:nn], stand_cathode[:nn], s = 1, label = \"Background\", color = \"pink\")\n",
    "plt.scatter(stand_feta[20000:20000+nn], stand_cathode[20000:20000+nn], s = 1, label = \"Signal\", color = \"purple\")\n",
    "plt.plot([-ll, ll], [-ll, ll], color = \"black\")\n",
    "plt.xlim(-ll, ll)\n",
    "plt.ylim(-ll, ll)\n",
    "plt.legend(markerscale=6)\n",
    "plt.xlabel(\"Feta (standardized)\")\n",
    "plt.ylabel(\"Cathode (standardized)\")\n",
    "fig.savefig(\"paper_plots/feta_v_cathode.pdf\", dpi = dpi)\n",
    "\n",
    "plt.show()\n",
    "\n",
    "\n",
    "\n",
    "\n",
    "\n",
    "\n",
    "fig = plt.figure(figsize = (5, 5))\n",
    "\n",
    "plt.scatter(stand_feta[:nn], stand_curtains[:nn], s = 1, label = \"Background\", color = \"pink\")\n",
    "plt.scatter(stand_feta[20000:20000+nn], stand_curtains[20000:20000+nn], s = 1, label = \"Signal\", color = \"purple\")\n",
    "plt.plot([-ll, ll], [-ll, ll], color = \"black\")\n",
    "plt.xlim(-ll, ll)\n",
    "plt.ylim(-ll, ll)\n",
    "plt.legend(markerscale=6)\n",
    "plt.xlabel(\"Feta (standardized)\")\n",
    "plt.ylabel(\"Curtains (standardized)\")\n",
    "fig.savefig(\"paper_plots/feta_v_curtains.pdf\", dpi = dpi)\n",
    "\n",
    "plt.show()\n",
    "\n"
   ]
  },
  {
   "cell_type": "code",
   "execution_count": null,
   "id": "09ac2299",
   "metadata": {
    "scrolled": false
   },
   "outputs": [],
   "source": [
    "\n",
    "nn = 10000\n",
    "f = 20\n",
    "ll = 4\n",
    "\n",
    "fig, ax = plt.subplots(1, 2, figsize = (17, 7))\n",
    "\n",
    "ax[0].scatter(stand_feta[:nn], stand_cathode[:nn], s = 1, label = \"Background\", color = \"pink\")\n",
    "ax[0].plot([-ll, ll], [-ll, ll], color = \"black\")\n",
    "#ax[0].text(-3, 2, f\"$n_s = {num_signal_to_inject}$\", fontsize = f+2)\n",
    "ax[0].set_xlim(-ll, ll)\n",
    "ax[0].set_ylim(-ll, ll)\n",
    "ax[0].legend(markerscale=10, fontsize = f, loc = \"upper left\")\n",
    "ax[0].set_xlabel(\"FETA\")\n",
    "ax[0].set_ylabel(\"CATHODE\")\n",
    "\n",
    "ax[1].scatter(stand_feta[20000:20000+nn], stand_cathode[20000:20000+nn], s = 1, label = \"Signal\", color = \"purple\")\n",
    "ax[1].plot([-ll, ll], [-ll, ll], color = \"black\")\n",
    "#ax[0].text(-3, 2, f\"$n_s = {num_signal_to_inject}$\", fontsize = f+2)\n",
    "ax[1].set_xlim(-ll, ll)\n",
    "ax[1].set_ylim(-ll, ll)\n",
    "ax[1].legend(markerscale=10, loc = \"upper left\", fontsize = f)\n",
    "ax[1].set_xlabel(\"FETA\")\n",
    "ax[1].set_ylabel(\"CATHODE\")\n",
    "\n",
    "fig.savefig(f\"paper_plots/feta_v_cathode_{num_signal_to_inject}.pdf\", dpi = dpi)\n",
    "plt.show()\n",
    "\n",
    "\n",
    "\n",
    "\n",
    "\n",
    "\n",
    "fig, ax = plt.subplots(1, 2, figsize = (17, 7))\n",
    "\n",
    "ax[0].scatter(stand_feta[:nn], stand_curtains[:nn], s = 1, label = \"Background\", color = \"pink\")\n",
    "ax[0].plot([-ll, ll], [-ll, ll], color = \"black\")\n",
    "ax[0].set_xlim(-ll, ll)\n",
    "ax[0].set_ylim(-ll, ll)\n",
    "ax[0].legend(markerscale=10, loc = \"upper left\", fontsize = f)\n",
    "ax[0].set_xlabel(\"FETA\")\n",
    "ax[0].set_ylabel(\"CURTAINS\")\n",
    "\n",
    "ax[1].scatter(stand_feta[20000:20000+nn], stand_curtains[20000:20000+nn], s = 1, label = \"Signal\", color = \"purple\")\n",
    "ax[1].plot([-ll, ll], [-ll, ll], color = \"black\")\n",
    "\n",
    "ax[1].set_xlim(-ll, ll)\n",
    "ax[1].set_ylim(-ll, ll)\n",
    "ax[1].legend(markerscale=10, loc = \"upper left\", fontsize = f)\n",
    "ax[1].set_xlabel(\"FETA\")\n",
    "ax[1].set_ylabel(\"CURTAINS\")\n",
    "\n",
    "fig.savefig(f\"paper_plots/feta_v_curtains_{num_signal_to_inject}.pdf\", dpi = dpi)\n",
    "\n",
    "plt.show()\n",
    "\n"
   ]
  },
  {
   "cell_type": "code",
   "execution_count": null,
   "id": "b6e9ea74",
   "metadata": {},
   "outputs": [],
   "source": []
  },
  {
   "cell_type": "code",
   "execution_count": null,
   "id": "2d029310",
   "metadata": {},
   "outputs": [],
   "source": []
  },
  {
   "cell_type": "code",
   "execution_count": null,
   "id": "2ffa6425",
   "metadata": {},
   "outputs": [],
   "source": []
  },
  {
   "cell_type": "code",
   "execution_count": null,
   "id": "a6ca2afe",
   "metadata": {},
   "outputs": [],
   "source": []
  },
  {
   "cell_type": "code",
   "execution_count": null,
   "id": "4d43b334",
   "metadata": {},
   "outputs": [],
   "source": []
  },
  {
   "cell_type": "code",
   "execution_count": null,
   "id": "61b445d9",
   "metadata": {},
   "outputs": [],
   "source": []
  }
 ],
 "metadata": {
  "kernelspec": {
   "display_name": "Python 3",
   "language": "python",
   "name": "python3"
  },
  "language_info": {
   "codemirror_mode": {
    "name": "ipython",
    "version": 3
   },
   "file_extension": ".py",
   "mimetype": "text/x-python",
   "name": "python",
   "nbconvert_exporter": "python",
   "pygments_lexer": "ipython3",
   "version": "3.6.8"
  }
 },
 "nbformat": 4,
 "nbformat_minor": 5
}
