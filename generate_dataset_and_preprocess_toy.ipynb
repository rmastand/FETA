{
 "cells": [
  {
   "cell_type": "code",
   "execution_count": 27,
   "id": "f52780f3",
   "metadata": {},
   "outputs": [],
   "source": [
    "import matplotlib.pyplot as plt\n",
    "import matplotlib\n",
    "import numpy as np\n",
    "\n",
    "import os\n",
    "from helpers.datasets import *\n",
    "cm = matplotlib.cm.get_cmap('Greens')\n",
    "plt.style.use(\"science.mplstyle\")\n",
    "\n",
    "\n",
    "np.random.seed(8)\n",
    "\n",
    "from matplotlib.backends.backend_pdf import PdfPages as pp"
   ]
  },
  {
   "cell_type": "code",
   "execution_count": 28,
   "id": "3be7183c",
   "metadata": {},
   "outputs": [
    {
     "name": "stdout",
     "output_type": "stream",
     "text": [
      "Making dataset directory at /global/home/users/rrmastandrea/CURTAINS_SALAD/triangle_npoints100000_nfeatures2/data ...\n"
     ]
    }
   ],
   "source": [
    "# directories\n",
    "curtains_dir = \"/global/home/users/rrmastandrea/CURTAINS_SALAD/\"\n",
    "\n",
    "# function input paramters\n",
    "n_points = 100000\n",
    "dataset_id = \"triangle\"\n",
    "n_features = 2 # including context\n",
    "dataset_config_string = f\"{dataset_id}_npoints{n_points}_nfeatures{n_features}/\"\n",
    "\n",
    "\n",
    "data_dir = os.path.join(curtains_dir, dataset_config_string, \"data\")\n",
    "\n",
    "print(\"Making dataset directory at\", data_dir, \"...\")\n",
    "os.makedirs(data_dir, exist_ok=True)\n"
   ]
  },
  {
   "cell_type": "code",
   "execution_count": 29,
   "id": "71038a0c",
   "metadata": {},
   "outputs": [
    {
     "name": "stdout",
     "output_type": "stream",
     "text": [
      "Generating datasets...\n",
      "SIM shape: (100000, 2)\n",
      "DAT shape: (100000, 2)\n"
     ]
    }
   ],
   "source": [
    "# dataset generation parameters\n",
    "context_endpoints = (0, 1)\n",
    "\n",
    "\n",
    "bands_dict = {\"ob1\": [0, .2],\n",
    "              \"sb1\": [.2, .4],\n",
    "              \"sr\" : [.4, .6],\n",
    "              \"sb2\": [.6, .8],\n",
    "              \"ob2\": [.8, 1]}\n",
    "\n",
    "print(\"Generating datasets...\")\n",
    "\n",
    "\n",
    "data_sim = make_dataset_with_context(n_points, n_features-1, dataset_id, context_endpoints, (0.25/0.5))\n",
    "data_dat = make_dataset_with_context(n_points, n_features-1, dataset_id, context_endpoints, (0.75/0.5))\n",
    "\n",
    "print(\"SIM shape:\", data_sim.shape)\n",
    "print(\"DAT shape:\", data_dat.shape)\n",
    "\n",
    "\n",
    "\n",
    "\n",
    "\n"
   ]
  },
  {
   "cell_type": "code",
   "execution_count": 30,
   "id": "0f1ad115",
   "metadata": {},
   "outputs": [],
   "source": [
    "def pull_from_mass_range(dataset, mass_ranges):\n",
    "\n",
    "        \"\"\"\n",
    "        mass_ranges is a list of lists [low_bound, high_bound]\n",
    "        \"\"\"\n",
    "\n",
    "        selected_data = []\n",
    "\n",
    "        for mass_range in mass_ranges:\n",
    "            loc = np.where((dataset[:, -1] >= mass_range[0]) & (dataset[:, -1] < mass_range[1]))[0]\n",
    "            selected_data.append( dataset[loc, :] )\n",
    "        selected_data = np.concatenate(selected_data)\n",
    "        np.random.shuffle(selected_data)\n",
    "\n",
    "        return selected_data\n",
    "    \n",
    "    \n",
    "    \n",
    "def minmaxscale(data, col_minmax, lower = -3.0, upper = 3.0):\n",
    "        \n",
    "       \n",
    "        minmaxscaled_data = np.zeros(data.shape)\n",
    "        for col in range(data.shape[1]):\n",
    "\n",
    "            X_std = (data[:, col] - col_minmax[col][0]) / (col_minmax[col][1] - col_minmax[col][0])\n",
    "            minmaxscaled_data[:, col] = X_std * (upper - lower) + lower\n",
    "        \n",
    "        return minmaxscaled_data\n",
    "     \n",
    "\n"
   ]
  },
  {
   "cell_type": "markdown",
   "id": "76f5c1f7",
   "metadata": {},
   "source": [
    "## Pull from ob1 -> ob2 to visualize and get column rescales"
   ]
  },
  {
   "cell_type": "code",
   "execution_count": 31,
   "id": "cb31e03e",
   "metadata": {},
   "outputs": [],
   "source": [
    "trial_data_sim = pull_from_mass_range(data_sim, [bands_dict[\"ob1\"], bands_dict[\"sb1\"], bands_dict[\"sr\"], bands_dict[\"sb2\"], bands_dict[\"ob2\"]])\n",
    "trial_data_dat = pull_from_mass_range(data_dat, [bands_dict[\"ob1\"], bands_dict[\"sb1\"], bands_dict[\"sr\"], bands_dict[\"sb2\"], bands_dict[\"ob2\"]])\n",
    "\n",
    "\n",
    "# list of (min, max) to preprocess every column\n",
    "col_minmax = []\n",
    "for col in range(n_features):\n",
    "            col_minmax.append([np.min(trial_data_sim[:, col]), np.max(trial_data_sim[:, col])])\n",
    "\n",
    "col_rescales = []\n",
    "for col in range(n_features):\n",
    "            col_rescales.append([np.mean(trial_data_sim[:, col]), np.std(trial_data_sim[:, col])])\n",
    "\n"
   ]
  },
  {
   "cell_type": "markdown",
   "id": "8a956e29",
   "metadata": {},
   "source": [
    "## Nice plots of the dataset"
   ]
  },
  {
   "cell_type": "code",
   "execution_count": null,
   "id": "9bf54803",
   "metadata": {
    "scrolled": false
   },
   "outputs": [],
   "source": [
    "\n",
    "\n",
    "fig, ax = plt.subplots(1, 2, figsize = (12, 4))\n",
    "fig.subplots_adjust(right=0.8, left = 0.2)\n",
    "\n",
    "n_plot = 5000\n",
    "\n",
    "bins = 40\n",
    "\n",
    "\n",
    "\n",
    "\n",
    "sc_sim = ax[0].scatter(trial_data_sim[:n_plot,0], trial_data_sim[:n_plot,1], c = trial_data_sim[:n_plot,-1], cmap=cm)\n",
    "ax[0].set_xlabel(\"F0\")\n",
    "ax[0].set_ylabel(\"F1\")\n",
    "ax[0].set_title(\"Sim\")\n",
    "\n",
    "sc_dat = ax[1].scatter(trial_data_dat[:n_plot,0], trial_data_dat[:n_plot,1], c = trial_data_dat[:n_plot,-1], cmap=cm)\n",
    "ax[1].set_xlabel(\"F0\")\n",
    "ax[1].set_ylabel(\"F1\")\n",
    "ax[1].set_title(\"Dat\")\n",
    "\n",
    "cbar_ax_sim = fig.add_axes([0, 0.15, 0.05, 0.7])\n",
    "cbar_ax_dat = fig.add_axes([0.85, 0.15, 0.05, 0.7])\n",
    "fig.colorbar(sc_sim, cax=cbar_ax_sim)\n",
    "fig.colorbar(sc_dat, cax=cbar_ax_dat)\n",
    "\n",
    "\n",
    "\n",
    "\n",
    "plt.show()\n",
    "\n",
    "\n",
    "pp = PdfPages(os.path.join(\"paper_plots\", f\"toy_model_datasets.pdf\"))\n",
    "\n",
    "\n",
    "fig, ax = plt.subplots(1, 2, figsize = (12, 6))\n",
    "ax = ax.flatten()\n",
    "\n",
    "ax[0].hist(trial_data_sim[:n_plot,1], bins = bins, density = True, label = \"SIM\", histtype = \"step\", color = \"red\")\n",
    "ax[0].hist(trial_data_dat[:n_plot,1], bins = bins, density = True, label = \"DAT\", histtype = \"step\", color = \"blue\")\n",
    "ax[0].legend(loc = \"lower center\")\n",
    "ax[0].set_xlabel(\"$x_i$\")\n",
    "\n",
    "ax[1].hist(trial_data_sim[:n_plot,0], bins = bins, density = True, label = \"SIM\", histtype = \"step\", color = \"red\")\n",
    "ax[1].hist(trial_data_dat[:n_plot,0], bins = bins, density = True, label = \"DAT\", histtype = \"step\", color = \"blue\")\n",
    "ax[1].legend(loc = \"lower center\")\n",
    "ax[1].set_xlabel(\"$y_i$\")\n",
    "        \n",
    "ax[0].set_ylabel(\"Density\")\n",
    "\n",
    "fig.show()\n",
    "pp.savefig()\n",
    "\n",
    "pp.close()\n",
    "\n",
    "\n"
   ]
  },
  {
   "cell_type": "markdown",
   "id": "6cce1774",
   "metadata": {},
   "source": [
    "# Plot specific bands"
   ]
  },
  {
   "cell_type": "code",
   "execution_count": null,
   "id": "f5baf572",
   "metadata": {},
   "outputs": [],
   "source": [
    "\n",
    "\n",
    "band = \"sb1\"\n",
    "\n",
    "\n",
    "trial_data_sim = pull_from_mass_range(data_sim, [bands_dict[band]])\n",
    "trial_data_dat = pull_from_mass_range(data_dat, [bands_dict[band]])\n",
    "\n",
    "print(f\"SIM {band} shape:\", trial_data_sim.shape)\n",
    "print(f\"DAT {band} shape:\", trial_data_dat.shape)\n",
    "\n",
    "fig, ax = plt.subplots(1, 2, figsize = (8, 4))\n",
    "fig.subplots_adjust(right=0.8)\n",
    "\n",
    "sc_sim = ax[0].scatter(trial_data_sim[:,0], trial_data_sim[:,1], c = trial_data_sim[:,-1], cmap=cm)\n",
    "ax[0].set_xlabel(\"F0\")\n",
    "ax[0].set_ylabel(\"F1\")\n",
    "ax[0].set_title(\"Sim\")\n",
    "\n",
    "sc_dat = ax[1].scatter(trial_data_dat[:,0], trial_data_dat[:,1], c = trial_data_dat[:,-1], cmap=cm)\n",
    "ax[1].set_xlabel(\"F0\")\n",
    "ax[1].set_ylabel(\"F1\")\n",
    "ax[1].set_title(\"Dat\")\n",
    "\n",
    "cbar_ax_sim = fig.add_axes([0, 0.15, 0.05, 0.7])\n",
    "cbar_ax_dat = fig.add_axes([0.85, 0.15, 0.05, 0.7])\n",
    "fig.colorbar(sc_sim, cax=cbar_ax_sim)\n",
    "fig.colorbar(sc_dat, cax=cbar_ax_dat)\n",
    "\n",
    "plt.show()\n",
    "\n",
    "\n",
    "fig, ax = plt.subplots(1, n_features, figsize = (4*n_features, 4))\n",
    "for i in range(n_features):\n",
    "    ax[i].hist(trial_data_sim[:,i], density = True, label = \"p_1\", histtype = \"step\")\n",
    "    ax[i].hist(trial_data_dat[:,i], density = True, label = \"p_2\", histtype = \"step\")\n",
    "    ax[i].legend()\n",
    "    ax[i].set_title(f\"f{i}\")\n",
    "\n",
    "fig.show()\n",
    "\n",
    "\n",
    "\n",
    "\n"
   ]
  },
  {
   "cell_type": "code",
   "execution_count": null,
   "id": "5277037e",
   "metadata": {},
   "outputs": [],
   "source": [
    "# pull sb1, sb2\n",
    "\n",
    "\n",
    "trial_data_sim_mms = minmaxscale(trial_data_sim, col_minmax)\n",
    "trial_data_dat_mms = minmaxscale(trial_data_dat, col_minmax)\n",
    "\n",
    "\n",
    "\n",
    "fig, ax = plt.subplots(1, 2, figsize = (8, 4))\n",
    "fig.subplots_adjust(right=0.8)\n",
    "\n",
    "sc_sim = ax[0].scatter(trial_data_sim_mms[:,0], trial_data_sim_mms[:,1], c = trial_data_sim_mms[:,-1], cmap=cm)\n",
    "ax[0].set_xlabel(\"F0\")\n",
    "ax[0].set_ylabel(\"F1\")\n",
    "ax[0].set_title(\"Sim\")\n",
    "\n",
    "sc_dat = ax[1].scatter(trial_data_dat_mms[:,0], trial_data_dat_mms[:,1], c = trial_data_dat_mms[:,-1], cmap=cm)\n",
    "ax[1].set_xlabel(\"F0\")\n",
    "ax[1].set_ylabel(\"F1\")\n",
    "ax[1].set_title(\"Dat\")\n",
    "\n",
    "cbar_ax_sim = fig.add_axes([0, 0.15, 0.05, 0.7])\n",
    "cbar_ax_dat = fig.add_axes([0.85, 0.15, 0.05, 0.7])\n",
    "fig.colorbar(sc_sim, cax=cbar_ax_sim)\n",
    "fig.colorbar(sc_dat, cax=cbar_ax_dat)\n",
    "\n",
    "plt.show()\n",
    "\n",
    "\n",
    "fig, ax = plt.subplots(1, n_features, figsize = (4*n_features, 4))\n",
    "for i in range(n_features):\n",
    "    ax[i].hist(trial_data_sim_mms[:,i], density = True, label = \"p_1\", histtype = \"step\")\n",
    "    ax[i].hist(trial_data_dat_mms[:,i], density = True, label = \"p_2\", histtype = \"step\")\n",
    "    ax[i].legend()\n",
    "    ax[i].set_yscale(\"log\")\n",
    "    ax[i].set_title(f\"f{i}\")\n",
    "\n",
    "fig.show()\n",
    "\n",
    "\n",
    "\n"
   ]
  },
  {
   "cell_type": "code",
   "execution_count": 17,
   "id": "4f257abf",
   "metadata": {},
   "outputs": [],
   "source": [
    "# save\n",
    "\n",
    "np.save(os.path.join(data_dir, \"data_sim.npy\"), data_sim)\n",
    "np.save(os.path.join(data_dir, \"data_dat.npy\"), data_dat)\n",
    "np.save(os.path.join(data_dir, \"col_minmax.npy\"), col_minmax)\n",
    "np.save(os.path.join(data_dir, \"col_rescales.npy\"), col_rescales)\n",
    "\n",
    "\n"
   ]
  },
  {
   "cell_type": "code",
   "execution_count": null,
   "id": "f7ec0b86",
   "metadata": {},
   "outputs": [],
   "source": []
  },
  {
   "cell_type": "code",
   "execution_count": null,
   "id": "6271a99a",
   "metadata": {},
   "outputs": [],
   "source": []
  },
  {
   "cell_type": "code",
   "execution_count": null,
   "id": "a216a8f7",
   "metadata": {},
   "outputs": [],
   "source": []
  },
  {
   "cell_type": "code",
   "execution_count": null,
   "id": "1cd50d87",
   "metadata": {},
   "outputs": [],
   "source": []
  },
  {
   "cell_type": "code",
   "execution_count": null,
   "id": "ef230924",
   "metadata": {},
   "outputs": [],
   "source": []
  },
  {
   "cell_type": "code",
   "execution_count": null,
   "id": "e6687775",
   "metadata": {},
   "outputs": [],
   "source": []
  },
  {
   "cell_type": "code",
   "execution_count": null,
   "id": "c6fdff47",
   "metadata": {},
   "outputs": [],
   "source": []
  },
  {
   "cell_type": "code",
   "execution_count": null,
   "id": "96482431",
   "metadata": {},
   "outputs": [],
   "source": []
  },
  {
   "cell_type": "code",
   "execution_count": null,
   "id": "47f627e1",
   "metadata": {},
   "outputs": [],
   "source": []
  },
  {
   "cell_type": "code",
   "execution_count": null,
   "id": "7aa12433",
   "metadata": {},
   "outputs": [],
   "source": []
  }
 ],
 "metadata": {
  "kernelspec": {
   "display_name": "Python 3",
   "language": "python",
   "name": "python3"
  },
  "language_info": {
   "codemirror_mode": {
    "name": "ipython",
    "version": 3
   },
   "file_extension": ".py",
   "mimetype": "text/x-python",
   "name": "python",
   "nbconvert_exporter": "python",
   "pygments_lexer": "ipython3",
   "version": "3.6.8"
  }
 },
 "nbformat": 4,
 "nbformat_minor": 5
}
