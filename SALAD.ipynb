{
 "cells": [
  {
   "cell_type": "code",
   "execution_count": 1,
   "id": "974871d3",
   "metadata": {},
   "outputs": [],
   "source": [
    "import numpy as np\n",
    "import pandas as pd\n",
    "import matplotlib.pyplot as plt\n",
    "from matplotlib import gridspec\n",
    "\n",
    "from sklearn.model_selection import train_test_split\n",
    "from sklearn.metrics import roc_curve, roc_auc_score\n",
    "from sklearn.utils import shuffle\n",
    "\n",
    "import tensorflow as tf\n",
    "from tensorflow.keras import Sequential\n",
    "from tensorflow.keras.layers import Lambda, Dense, Flatten\n",
    "from keras import backend as K \n",
    "\n",
    "from scipy import interpolate\n",
    "import math\n",
    "\n",
    "import os\n",
    "os.environ[\"CUDA_VISIBLE_DEVICES\"]=\"2\"\n",
    "\n",
    "gpu_options = tf.compat.v1.GPUOptions(per_process_gpu_memory_fraction=0.5)\n",
    "sess = tf.compat.v1.Session(config=tf.compat.v1.ConfigProto(gpu_options=gpu_options))"
   ]
  },
  {
   "cell_type": "code",
   "execution_count": 2,
   "id": "37b04232",
   "metadata": {},
   "outputs": [
    {
     "name": "stdout",
     "output_type": "stream",
     "text": [
      "Num SIM events in SB: 401354\n",
      "Num DAT events in SB: 279186\n",
      "\n",
      "Preproccessing data...\n",
      "\n"
     ]
    }
   ],
   "source": [
    "from helpers.composite_helpers import *\n",
    "\n",
    "curtains_dir = \"/global/home/users/rrmastandrea/CURTAINS_SALAD/\"\n",
    "\n",
    "n_features = 5\n",
    "num_signal_to_inject = 2000\n",
    "dataset_config_string = f\"LHCO_{num_signal_to_inject}sig_f/\"\n",
    "STS_config_sting = f\"LHCO_STS/\"\n",
    "\n",
    "exp_dir = os.path.join(curtains_dir, dataset_config_string)\n",
    "data_dir = os.path.join(exp_dir, \"data\")\n",
    "\n",
    "# load in the reverse rescales\n",
    "path_to_minmax = \"/global/home/users/rrmastandrea/CURTAINS_SALAD/LHCO_STS/data/col_minmax.npy\"\n",
    "col_minmax = np.load(path_to_minmax)\n",
    "\n",
    "# dataset generation parameters\n",
    "context_endpoints = (2500, 4500)\n",
    "\n",
    "\n",
    "bands_dict = {\"sb1\": [2900, 3300],\n",
    "              \"sr\" : [3300, 3700],\n",
    "              \"sb2\": [3700, 4100]}\n",
    "\n",
    "binning_scheme = np.linspace(-3.5, 3.5, 50)\n",
    "\n",
    "\n",
    "\"\"\"\n",
    "\"\"\"\n",
    "\"\"\"\n",
    "LOAD IN THE DATASETS AND PROCESS\n",
    "\"\"\"\n",
    "\"\"\"\n",
    "\"\"\"\n",
    "\n",
    "npull_dataset_train_sim = ToyDataset(data_dir, \"train_sim.npy\")\n",
    "npull_dataset_val_sim = ToyDataset(data_dir, \"val_sim.npy\")\n",
    "npull_dataset_train_dat = ToyDataset(data_dir, \"train_dat.npy\")\n",
    "npull_dataset_val_dat = ToyDataset(data_dir, \"val_dat.npy\")\n",
    "classif_train_sim = ToyDataset(data_dir, \"classif_train_sim.npy\")\n",
    "classif_train_dat = ToyDataset(data_dir, \"classif_train_dat.npy\")\n",
    "\n",
    "print(\"Num SIM events in SB:\", len(npull_dataset_train_sim)+len(npull_dataset_val_sim))\n",
    "print(\"Num DAT events in SB:\", len(npull_dataset_train_dat)+len(npull_dataset_val_dat))\n",
    "print()\n",
    "\n",
    "# Preprocess the data\n",
    "print(\"Preproccessing data...\")\n",
    "print()\n",
    "dataset_train_sim = npull_dataset_train_sim.pull_from_mass_range([bands_dict[\"sb1\"], bands_dict[\"sb2\"]])\n",
    "dataset_val_sim = npull_dataset_val_sim.pull_from_mass_range([bands_dict[\"sb1\"], bands_dict[\"sb2\"]])\n",
    "dataset_train_dat = npull_dataset_train_dat.pull_from_mass_range([bands_dict[\"sb1\"], bands_dict[\"sb2\"]])\n",
    "dataset_val_dat = npull_dataset_val_dat.pull_from_mass_range([bands_dict[\"sb1\"], bands_dict[\"sb2\"]])\n",
    "\n",
    "dataset_sr_sim = classif_train_sim.pull_from_mass_range([bands_dict[\"sr\"]])\n",
    "dataset_sr_dat = classif_train_dat.pull_from_mass_range([bands_dict[\"sr\"]])\n",
    "\n",
    "dataset_train_sim = minmaxscale(dataset_train_sim.data, col_minmax, lower = -3, upper = 3, forward = True)\n",
    "dataset_val_sim = minmaxscale(dataset_val_sim.data, col_minmax, lower = -3, upper = 3, forward = True)\n",
    "dataset_train_dat = minmaxscale(dataset_train_dat.data, col_minmax, lower = -3, upper = 3, forward = True)\n",
    "dataset_val_dat = minmaxscale(dataset_val_dat.data, col_minmax, lower = -3, upper = 3, forward = True)\n",
    "dataset_sr_sim = minmaxscale(dataset_sr_sim.data, col_minmax, lower = -3, upper = 3, forward = True)\n",
    "dataset_sr_dat = minmaxscale(dataset_sr_dat.data, col_minmax, lower = -3, upper = 3, forward = True)\n",
    "\n",
    "\n"
   ]
  },
  {
   "cell_type": "code",
   "execution_count": 3,
   "id": "07d48584",
   "metadata": {},
   "outputs": [
    {
     "data": {
      "text/plain": [
       "'\\n\\nind = 4\\n\\nplt.figure()\\n\\nplt.hist(dataset_train_sim[:,ind])\\nplt.hist(dataset_train_dat[:,ind])\\nplt.show()\\n'"
      ]
     },
     "execution_count": 3,
     "metadata": {},
     "output_type": "execute_result"
    }
   ],
   "source": [
    "\"\"\"\n",
    "\n",
    "ind = 4\n",
    "\n",
    "plt.figure()\n",
    "\n",
    "plt.hist(dataset_train_sim[:,ind])\n",
    "plt.hist(dataset_train_dat[:,ind])\n",
    "plt.show()\n",
    "\"\"\""
   ]
  },
  {
   "cell_type": "markdown",
   "id": "bcdd5692",
   "metadata": {},
   "source": [
    "# Actually train SALAD"
   ]
  },
  {
   "cell_type": "code",
   "execution_count": 4,
   "id": "1b229273",
   "metadata": {
    "scrolled": true
   },
   "outputs": [
    {
     "name": "stdout",
     "output_type": "stream",
     "text": [
      "Training...\n",
      "WARNING:tensorflow:`epsilon` argument is deprecated and will be removed, use `min_delta` instead.\n",
      "\n",
      "Epoch 00032: ReduceLROnPlateau reducing learning rate to 0.0005000000237487257.\n",
      "done\n"
     ]
    }
   ],
   "source": [
    "#Next is SALAD\n",
    "\n",
    "\n",
    "stored_weights = {}\n",
    "\n",
    "\n",
    "def get_weights(data, model):\n",
    "    yhat = model.predict(data, batch_size=128)\n",
    "    return np.squeeze(yhat/(1 - yhat))\n",
    "\n",
    "\n",
    "X_SALAD_sb_train = np.concatenate([dataset_train_sim, dataset_train_dat])\n",
    "Y_SALAD_sb_train = np.concatenate([np.zeros(len(dataset_train_sim)), np.ones(len(dataset_train_dat))])\n",
    "\n",
    "X_SALAD_val = np.concatenate([dataset_val_sim, dataset_val_dat])\n",
    "Y_SALAD_val = np.concatenate([np.zeros(len(dataset_val_sim)),np.ones(len(dataset_val_dat))])\n",
    "\n",
    "# testing set\n",
    "X_SALAD_sr_train = np.concatenate([dataset_sr_sim, dataset_sr_dat])\n",
    "Y_SALAD_sr_train = np.concatenate([np.zeros(len(dataset_sr_sim)), np.ones(len(dataset_sr_dat))])\n",
    "\n",
    "X_SALAD_sb_train = X_SALAD_sb_train[:,:5]\n",
    "X_SALAD_val = X_SALAD_val[:,:5]\n",
    "X_SALAD_sr_train = X_SALAD_sr_train[:,:5]\n",
    "\n",
    "\n",
    "\n",
    "print('Training...')\n",
    "\n",
    "tf.keras.backend.clear_session()\n",
    "model_SALAD_sb = Sequential()\n",
    "model_SALAD_sb.add(Dense(64, input_dim=5, activation='relu')) \n",
    "model_SALAD_sb.add(Dense(64, activation='relu'))\n",
    "model_SALAD_sb.add(Dense(64, activation='relu'))\n",
    "model_SALAD_sb.add(Dense(1, activation='sigmoid'))\n",
    "model_SALAD_sb.compile(loss='binary_crossentropy', optimizer='adam', metrics=['accuracy'])\n",
    "\n",
    "EPOCHS = 70\n",
    "\n",
    "earlyStopping = tf.keras.callbacks.EarlyStopping(monitor='val_loss', patience=10, verbose=0, mode='min')\n",
    "mcp_save = tf.keras.callbacks.ModelCheckpoint(f'{num_signal_to_inject}.mdl_wts.hdf5', save_best_only=True, monitor='val_loss', mode='min')\n",
    "reduce_lr_loss = tf.keras.callbacks.ReduceLROnPlateau(monitor='val_loss', factor=0.5, patience=10, verbose=1, epsilon=1e-7, mode='min')\n",
    "\n",
    "\n",
    "hist_SALAD_sb = model_SALAD_sb.fit(\n",
    "    X_SALAD_sb_train, Y_SALAD_sb_train, epochs=EPOCHS,\n",
    "    batch_size=int(256), verbose=0, callbacks=[earlyStopping, mcp_save, reduce_lr_loss], validation_data=(X_SALAD_val, Y_SALAD_val)\n",
    ")\n",
    "\n",
    "\n",
    "\n",
    "\n",
    "print(\"done\")\n"
   ]
  },
  {
   "cell_type": "code",
   "execution_count": 5,
   "id": "4df9eb7c",
   "metadata": {},
   "outputs": [
    {
     "data": {
      "image/png": "[encoded data removed]",
      "text/plain": [
       "<Figure size 432x288 with 1 Axes>"
      ]
     },
     "metadata": {
      "needs_background": "light"
     },
     "output_type": "display_data"
    },
    {
     "data": {
      "image/png": "[encoded data removed]",
      "text/plain": [
       "<Figure size 432x288 with 1 Axes>"
      ]
     },
     "metadata": {
      "needs_background": "light"
     },
     "output_type": "display_data"
    }
   ],
   "source": [
    "\n",
    "plt.plot(hist_SALAD_sb.history['accuracy'])\n",
    "plt.plot(hist_SALAD_sb.history['val_accuracy'])\n",
    "plt.title('model accuracy')\n",
    "plt.ylabel('accuracy')\n",
    "plt.xlabel('epoch')\n",
    "plt.legend(['train', 'val'], loc='upper left')\n",
    "plt.show()\n",
    "\n",
    "     \n",
    "plt.plot(hist_SALAD_sb.history['loss'])\n",
    "plt.plot(hist_SALAD_sb.history['val_loss'])\n",
    "plt.title('model loss')\n",
    "plt.ylabel('loss')\n",
    "plt.xlabel('epoch')\n",
    "plt.legend(['train', 'val'], loc='upper left')\n",
    "plt.show()"
   ]
  },
  {
   "cell_type": "code",
   "execution_count": 6,
   "id": "6eb3d352",
   "metadata": {},
   "outputs": [
    {
     "name": "stdout",
     "output_type": "stream",
     "text": [
      "Evaluating at best val loss epoch: 21\n"
     ]
    }
   ],
   "source": [
    "model_SALAD_sb.load_weights(f'{num_signal_to_inject}.mdl_wts.hdf5')\n",
    "print(\"Evaluating at best val loss epoch:\", np.argmin(hist_SALAD_sb.history['val_loss']))\n",
    "\n",
    "# apply weight function\n",
    "W_SALAD_sr_train = np.ones_like(Y_SALAD_sr_train)\n",
    "W_SALAD_sr_train[Y_SALAD_sr_train == 0] = get_weights(X_SALAD_sr_train[Y_SALAD_sr_train == 0], \n",
    "                                                     model_SALAD_sb)\n"
   ]
  },
  {
   "cell_type": "markdown",
   "id": "6adbac47",
   "metadata": {},
   "source": [
    "# Final evaluation"
   ]
  },
  {
   "cell_type": "code",
   "execution_count": 7,
   "id": "795a8e3b",
   "metadata": {},
   "outputs": [
    {
     "name": "stdout",
     "output_type": "stream",
     "text": [
      "Using device: cuda\n"
     ]
    }
   ],
   "source": [
    "#!/usr/bin/env python\n",
    "# coding: utf-8\n",
    "\n",
    "import torch\n",
    "import os\n",
    "from numba import cuda \n",
    "\n",
    "from helpers.composite_helpers import *\n",
    "\n",
    "\n",
    "device = cuda.get_current_device()\n",
    "device.reset()\n",
    "\n",
    "# set the number of threads that pytorch will use\n",
    "torch.set_num_threads(2)\n",
    "\n",
    "# set gpu device\n",
    "device = torch.device( \"cuda\" if torch.cuda.is_available() else \"cpu\")\n",
    "print( \"Using device: \" + str( device ), flush=True)\n"
   ]
  },
  {
   "cell_type": "markdown",
   "id": "e9b90a61",
   "metadata": {},
   "source": [
    "## Reprocess all the samples"
   ]
  },
  {
   "cell_type": "code",
   "execution_count": 8,
   "id": "94ed9a4e",
   "metadata": {},
   "outputs": [
    {
     "data": {
      "text/plain": [
       "'\\nplt.figure()\\nplt.hist(X_SALAD_sr_train[:,0])\\nplt.show()\\n'"
      ]
     },
     "execution_count": 8,
     "metadata": {},
     "output_type": "execute_result"
    }
   ],
   "source": [
    "X_SALAD_sr_train = minmaxscale(X_SALAD_sr_train, col_minmax, lower = -3, upper = 3, forward = False)\n",
    "X_SALAD_sr_train = minmaxscale(X_SALAD_sr_train, col_minmax, lower = 0, upper = 1, forward = True)\n",
    "\n",
    "\"\"\"\n",
    "plt.figure()\n",
    "plt.hist(X_SALAD_sr_train[:,0])\n",
    "plt.show()\n",
    "\"\"\""
   ]
  },
  {
   "cell_type": "code",
   "execution_count": 9,
   "id": "2a923d70",
   "metadata": {},
   "outputs": [],
   "source": [
    "def loc_analyze_band_transform(dir_to_save, idd, nn_train_data, nn_train_labs, class_weights, test_samp_1, test_samp_2, n_features, n_epochs, batch_size, lr, patience, device, update_epochs = 1, early_stop = True, visualize = True, seed = None):\n",
    "    \n",
    "    if seed is not None:\n",
    "        #print(f\"Using seed {seed}...\")\n",
    "        torch.manual_seed(seed)\n",
    "        np.random.seed(seed)\n",
    "            \n",
    "    dense_net = NeuralNet(input_shape = n_features)\n",
    "    criterion = F.binary_cross_entropy #nn.BCELoss()\n",
    "    optimizer = torch.optim.Adam(dense_net.parameters(), lr=lr)\n",
    "\n",
    "    dense_net.to(device)\n",
    "    \n",
    "    if early_stop:\n",
    "        early_stopping = EarlyStopping(patience=patience)\n",
    "    \n",
    "        \n",
    "    # train-test split\n",
    "    val_size = 0.2\n",
    "    \n",
    "    # train-val split\n",
    "    X_train, X_val, y_train, y_val = train_test_split(nn_train_data, nn_train_labs, test_size=val_size)\n",
    "    \n",
    "\n",
    "    nn_test_data = np.concatenate((test_samp_1, test_samp_2))\n",
    "    nn_test_labs = np.concatenate((torch.zeros((test_samp_1.shape[0], 1)), torch.ones((test_samp_2.shape[0],1))))\n",
    "    # shuffle the data\n",
    "    nn_train_data, nn_train_labs = shuffle(nn_train_data, nn_train_labs)\n",
    "    X_test, y_test = shuffle(nn_test_data, nn_test_labs)\n",
    "\n",
    "    \n",
    "    print(\"Train data, labels shape:\", X_train.shape, y_train.shape)\n",
    "    print(\"Val data, labels shape:\", X_val.shape, y_val.shape)\n",
    "    print(\"Test data, labels  shape:\", X_test.shape, y_test.shape)\n",
    "    \n",
    "    for i in range(X_train.shape[1]):\n",
    "        print(f\"Feature {i} min, max for train: ({np.min(X_train[:,i])},{np.max(X_train[:,i])}), val: ({np.min(X_val[:,i])},{np.max(X_val[:,i])}), test: ({np.min(X_test[:,i])},{np.max(X_test[:,i])})\")  \n",
    "        \n",
    "    # send to device\n",
    "    X_train = np_to_torch(X_train, device)\n",
    "    X_val = np_to_torch(X_val, device)\n",
    "    X_test = np_to_torch(X_test, device)\n",
    "    y_train = np_to_torch(y_train, device)\n",
    "    y_val = np_to_torch(y_val, device)\n",
    "    \n",
    "\n",
    "    epochs, epochs_val = [], []\n",
    "    losses, losses_val = [], []\n",
    "\n",
    "    for epoch in tqdm(range(n_epochs)):\n",
    "        # batching\n",
    "        indices_list = torch.split( torch.randperm( X_train.shape[0] ), batch_size )\n",
    "        # initialise lists to store batch stats\n",
    "        losses_batch_per_e = []\n",
    "        \n",
    "        for i, indices in enumerate( indices_list ): # going through the batches\n",
    "            # calculate the loss, backpropagate\n",
    "            optimizer.zero_grad()\n",
    "            \n",
    "            batch_data = X_train[indices]\n",
    "            batch_labels = y_train[indices]\n",
    "            \n",
    "            # get the weights\n",
    "            batch_weights = (torch.ones(batch_labels.shape, device=device)\n",
    "                        - batch_labels)*class_weights[0] \\\n",
    "                        + batch_labels*class_weights[1]\n",
    "\n",
    "            \n",
    "            loss = criterion(dense_net(batch_data), batch_labels, weight = batch_weights)\n",
    "            \n",
    "            loss.backward()\n",
    "            optimizer.step()\n",
    "            optimizer.zero_grad()\n",
    "            \n",
    "            losses_batch_per_e.append(loss.detach().cpu().numpy())\n",
    "\n",
    "        epochs.append(epoch)\n",
    "        losses.append(np.mean(losses_batch_per_e))\n",
    "        \n",
    "        # validation\n",
    "        if epoch % update_epochs == 0:\n",
    "            \n",
    "            with torch.no_grad():\n",
    "                # batching\n",
    "                val_indices_list = torch.split( torch.randperm( X_val.shape[0] ), batch_size )\n",
    "                # initialise lists to store batch stats\n",
    "                val_losses_batch_per_e = []\n",
    "\n",
    "                for i, indices in enumerate( val_indices_list ): # going through the batches\n",
    "                    # calculate the loss, backpropagate\n",
    "                    optimizer.zero_grad()\n",
    "                    \n",
    "                    batch_data = X_val[indices]\n",
    "                    batch_labels = y_val[indices]\n",
    "\n",
    "                    # get the weights\n",
    "                    batch_weights = (torch.ones(batch_labels.shape, device=device)\n",
    "                                - batch_labels)*class_weights[0] \\\n",
    "                                + batch_labels*class_weights[1]\n",
    "\n",
    "                    \n",
    "                    val_loss = criterion(dense_net(batch_data), batch_labels, weight = batch_weights) \n",
    "\n",
    "                    val_losses_batch_per_e.append(val_loss.detach().cpu().numpy())\n",
    "\n",
    "            epochs_val.append(epoch)\n",
    "            losses_val.append(np.mean(val_losses_batch_per_e))\n",
    "            \n",
    "            if early_stop:\n",
    "                early_stopping(np.mean(val_losses_batch_per_e))\n",
    "                \n",
    "        if early_stopping.early_stop:\n",
    "            break\n",
    "\n",
    "    if visualize:\n",
    "        fig, ax = plt.subplots(1, 1, figsize=(7, 5))\n",
    "        ax.plot(epochs, losses)\n",
    "        ax.plot(epochs_val, losses_val, label = \"val\")\n",
    "        ax.legend()\n",
    "        ax.set_xlabel(\"Epoch\")\n",
    "        ax.set_ylabel(\"Loss\")\n",
    "        ax.set_title(idd)\n",
    "        fname = f\"{dir_to_save}/losses_{idd}\"\n",
    "        fig.savefig(fname)\n",
    "\n",
    "    # evaluate\n",
    "\n",
    "    # since we're not training, we don't need to calculate the gradients for our outputs\n",
    "    with torch.no_grad():\n",
    "        outputs = dense_net(X_test).detach().cpu().numpy()\n",
    "        predicted = np.round(outputs)\n",
    "\n",
    "        # calculate auc \n",
    "        auc = roc_auc_score(y_test, outputs)\n",
    "        fpr, tpr, _ = roc_curve(y_test, outputs)\n",
    "\n",
    "    if visualize:\n",
    "        fig, ax = plt.subplots(1, 1, figsize=(7, 5))\n",
    "        ax.plot(fpr, tpr)\n",
    "        ax.set_xlabel(\"FPR\")\n",
    "        ax.set_ylabel(\"TPR\")\n",
    "        ax.set_title(\"ROC: \" + str(auc))\n",
    "        fname = f\"{dir_to_save}/roc_{idd}\"\n",
    "        fig.savefig(fname)\n",
    "        \n",
    "    np.save(f\"{dir_to_save}/fpr_{idd}\", fpr)\n",
    "    np.save(f\"{dir_to_save}/tpr_{idd}\", tpr)\n",
    "        \n",
    "    if auc < 0.5:\n",
    "        auc = 1.0 - auc\n",
    "    \n",
    "    return auc\n"
   ]
  },
  {
   "cell_type": "code",
   "execution_count": 10,
   "id": "818ca7bf",
   "metadata": {},
   "outputs": [
    {
     "name": "stdout",
     "output_type": "stream",
     "text": [
      "On classifier seed 0...\n",
      "Train data, labels shape: (195912, 5) (195912, 1)\n",
      "Val data, labels shape: (48978, 5) (48978, 1)\n",
      "Test data, labels  shape: (40000, 5) (40000, 1)\n",
      "Feature 0 min, max for train: (0.0017086664835611982,0.8877576192220052), val: (0.0014009078343709307,0.9509881337483724), test: (0.005337465088814497,0.8737365007400513)\n",
      "Feature 1 min, max for train: (1.3510386149088542e-06,0.8989002704620361), val: (5.245208740234375e-06,0.8752840360005697), test: (5.234752279648092e-06,0.7705807685852051)\n",
      "Feature 2 min, max for train: (0.008307337760925293,0.9935704867045084), val: (-0.008684237798055014,0.9793432553609213), test: (0.018567243590950966,0.977394163608551)\n",
      "Feature 3 min, max for train: (-0.004112919171651203,0.9969124794006348), val: (0.0004246234893798839,0.994470993677775), test: (0.0008824266260489821,0.9812214374542236)\n",
      "Feature 4 min, max for train: (0.02644165356953931,0.8785417874654133), val: (0.058850248654683426,0.8729041417439779), test: (0.06629329919815063,0.8438825011253357)\n"
     ]
    },
    {
     "name": "stderr",
     "output_type": "stream",
     "text": [
      " 49%|████▉     | 49/100 [01:55<02:00,  2.36s/it]\n"
     ]
    },
    {
     "ename": "KeyboardInterrupt",
     "evalue": "",
     "output_type": "error",
     "traceback": [
      "\u001b[0;31m---------------------------------------------------------------------------\u001b[0m",
      "\u001b[0;31mKeyboardInterrupt\u001b[0m                         Traceback (most recent call last)",
      "\u001b[0;32m<ipython-input-10-c70ac3f14b38>\u001b[0m in \u001b[0;36m<module>\u001b[0;34m\u001b[0m\n\u001b[1;32m     52\u001b[0m \u001b[0;34m\u001b[0m\u001b[0m\n\u001b[1;32m     53\u001b[0m     roc = loc_analyze_band_transform(results_dir, f\"salad_{seed_NN}\", \n\u001b[0;32m---> 54\u001b[0;31m                                      X_SALAD_sr_train, Y_SALAD_sr_train, W_SALAD_sr_train, STS_bkg_dataset[:,:-1], STS_sig_dataset[:,:-1], n_features, epochs_NN, batch_size_NN, lr_NN, patience_NN, device, visualize = True, seed = seed_NN)\n\u001b[0m\u001b[1;32m     55\u001b[0m     \u001b[0mresults_file\u001b[0m \u001b[0;34m=\u001b[0m \u001b[0;34mf\"{results_dir}/salad_{seed_NN}.txt\"\u001b[0m\u001b[0;34m\u001b[0m\u001b[0;34m\u001b[0m\u001b[0m\n\u001b[1;32m     56\u001b[0m \u001b[0;34m\u001b[0m\u001b[0m\n",
      "\u001b[0;32m<ipython-input-9-9c18a68e8d56>\u001b[0m in \u001b[0;36mloc_analyze_band_transform\u001b[0;34m(dir_to_save, idd, nn_train_data, nn_train_labs, class_weights, test_samp_1, test_samp_2, n_features, n_epochs, batch_size, lr, patience, device, update_epochs, early_stop, visualize, seed)\u001b[0m\n\u001b[1;32m     67\u001b[0m \u001b[0;34m\u001b[0m\u001b[0m\n\u001b[1;32m     68\u001b[0m \u001b[0;34m\u001b[0m\u001b[0m\n\u001b[0;32m---> 69\u001b[0;31m             \u001b[0mloss\u001b[0m \u001b[0;34m=\u001b[0m \u001b[0mcriterion\u001b[0m\u001b[0;34m(\u001b[0m\u001b[0mdense_net\u001b[0m\u001b[0;34m(\u001b[0m\u001b[0mbatch_data\u001b[0m\u001b[0;34m)\u001b[0m\u001b[0;34m,\u001b[0m \u001b[0mbatch_labels\u001b[0m\u001b[0;34m,\u001b[0m \u001b[0mweight\u001b[0m \u001b[0;34m=\u001b[0m \u001b[0mbatch_weights\u001b[0m\u001b[0;34m)\u001b[0m\u001b[0;34m\u001b[0m\u001b[0;34m\u001b[0m\u001b[0m\n\u001b[0m\u001b[1;32m     70\u001b[0m \u001b[0;34m\u001b[0m\u001b[0m\n\u001b[1;32m     71\u001b[0m             \u001b[0mloss\u001b[0m\u001b[0;34m.\u001b[0m\u001b[0mbackward\u001b[0m\u001b[0;34m(\u001b[0m\u001b[0;34m)\u001b[0m\u001b[0;34m\u001b[0m\u001b[0;34m\u001b[0m\u001b[0m\n",
      "\u001b[0;32m~/computingML2/lib64/python3.6/site-packages/torch/nn/functional.py\u001b[0m in \u001b[0;36mbinary_cross_entropy\u001b[0;34m(input, target, weight, size_average, reduce, reduction)\u001b[0m\n\u001b[1;32m   2913\u001b[0m         \u001b[0mweight\u001b[0m \u001b[0;34m=\u001b[0m \u001b[0mweight\u001b[0m\u001b[0;34m.\u001b[0m\u001b[0mexpand\u001b[0m\u001b[0;34m(\u001b[0m\u001b[0mnew_size\u001b[0m\u001b[0;34m)\u001b[0m\u001b[0;34m\u001b[0m\u001b[0;34m\u001b[0m\u001b[0m\n\u001b[1;32m   2914\u001b[0m \u001b[0;34m\u001b[0m\u001b[0m\n\u001b[0;32m-> 2915\u001b[0;31m     \u001b[0;32mreturn\u001b[0m \u001b[0mtorch\u001b[0m\u001b[0;34m.\u001b[0m\u001b[0m_C\u001b[0m\u001b[0;34m.\u001b[0m\u001b[0m_nn\u001b[0m\u001b[0;34m.\u001b[0m\u001b[0mbinary_cross_entropy\u001b[0m\u001b[0;34m(\u001b[0m\u001b[0minput\u001b[0m\u001b[0;34m,\u001b[0m \u001b[0mtarget\u001b[0m\u001b[0;34m,\u001b[0m \u001b[0mweight\u001b[0m\u001b[0;34m,\u001b[0m \u001b[0mreduction_enum\u001b[0m\u001b[0;34m)\u001b[0m\u001b[0;34m\u001b[0m\u001b[0;34m\u001b[0m\u001b[0m\n\u001b[0m\u001b[1;32m   2916\u001b[0m \u001b[0;34m\u001b[0m\u001b[0m\n\u001b[1;32m   2917\u001b[0m \u001b[0;34m\u001b[0m\u001b[0m\n",
      "\u001b[0;31mKeyboardInterrupt\u001b[0m: "
     ]
    }
   ],
   "source": [
    "epochs_NN =  100\n",
    "batch_size_NN = 128\n",
    "lr_NN = 0.001\n",
    "patience_NN = 20\n",
    "\n",
    "\n",
    "results_dir = f\"/global/home/users/rrmastandrea/NF_results/nsig_inj{num_signal_to_inject}_seed1/\"\n",
    "os.makedirs(results_dir, exist_ok=True)\n",
    "\n",
    "\n",
    "\"\"\"\n",
    "\"\"\"\n",
    "\"\"\"\n",
    "STS DATA\n",
    "\"\"\"\n",
    "\"\"\"\n",
    "\"\"\"\n",
    "\n",
    "STS_dir = \"/global/home/users/rrmastandrea/CURTAINS_SALAD/LHCO_STS/data/\"\n",
    "\n",
    "STS_bkg = ToyDataset(STS_dir, \"STS_bkg.npy\")\n",
    "STS_sig = ToyDataset(STS_dir, \"STS_sig.npy\")\n",
    "\n",
    "\n",
    "\n",
    "STS_bkg_dataset = STS_bkg.pull_from_mass_range([bands_dict[\"sr\"]])\n",
    "STS_sig_dataset = STS_sig.pull_from_mass_range([bands_dict[\"sr\"]])\n",
    "\n",
    "STS_bkg_dataset = minmaxscale(STS_bkg_dataset.data, col_minmax, lower = 0, upper = 1, forward = True)\n",
    "STS_sig_dataset = minmaxscale(STS_sig_dataset.data, col_minmax, lower = 0, upper = 1, forward = True)\n",
    "\n",
    "\n",
    "\n",
    "\n",
    "Y_SALAD_sr_train = Y_SALAD_sr_train.reshape(-1, 1)\n",
    "\n",
    "\n",
    "\"\"\"\n",
    "\"\"\"\n",
    "\"\"\"\n",
    "EVAL SALAD\n",
    "\"\"\"\n",
    "\"\"\"\n",
    "\"\"\"\n",
    "\n",
    "\n",
    "for seed_NN in range(0, 20, 1):\n",
    "    \n",
    "\n",
    "    print(f\"On classifier seed {seed_NN}...\")\n",
    "    \n",
    "\n",
    "    roc = loc_analyze_band_transform(results_dir, f\"salad_{seed_NN}\", \n",
    "                                     X_SALAD_sr_train, Y_SALAD_sr_train, W_SALAD_sr_train, STS_bkg_dataset[:,:-1], STS_sig_dataset[:,:-1], n_features, epochs_NN, batch_size_NN, lr_NN, patience_NN, device, visualize = True, seed = seed_NN)\n",
    "    results_file = f\"{results_dir}/salad_{seed_NN}.txt\"\n",
    "\n",
    "    with open(results_file, \"w\") as results:\n",
    "        results.write(f\"Discrim. power for STS bkg from STS sig in band SR: {roc}\\n\")\n",
    "        results.write(3*\"\\n\")\n",
    "\n",
    "    print()\n",
    "    print(20*\"*\")\n",
    "    print()\n",
    "        \n",
    "        \n",
    "   "
   ]
  },
  {
   "cell_type": "code",
   "execution_count": null,
   "id": "03204db4",
   "metadata": {},
   "outputs": [],
   "source": []
  },
  {
   "cell_type": "code",
   "execution_count": null,
   "id": "94549a4e",
   "metadata": {},
   "outputs": [],
   "source": []
  },
  {
   "cell_type": "code",
   "execution_count": null,
   "id": "89db5cf1",
   "metadata": {},
   "outputs": [],
   "source": []
  },
  {
   "cell_type": "code",
   "execution_count": null,
   "id": "b8749ff9",
   "metadata": {},
   "outputs": [],
   "source": []
  },
  {
   "cell_type": "code",
   "execution_count": null,
   "id": "ebf95258",
   "metadata": {},
   "outputs": [],
   "source": []
  },
  {
   "cell_type": "code",
   "execution_count": null,
   "id": "20f433a9",
   "metadata": {},
   "outputs": [],
   "source": []
  },
  {
   "cell_type": "code",
   "execution_count": null,
   "id": "429a9166",
   "metadata": {},
   "outputs": [],
   "source": []
  },
  {
   "cell_type": "code",
   "execution_count": null,
   "id": "5e4baba2",
   "metadata": {},
   "outputs": [],
   "source": []
  },
  {
   "cell_type": "code",
   "execution_count": null,
   "id": "31e3110f",
   "metadata": {},
   "outputs": [],
   "source": []
  },
  {
   "cell_type": "code",
   "execution_count": null,
   "id": "ee03cd30",
   "metadata": {},
   "outputs": [],
   "source": []
  },
  {
   "cell_type": "code",
   "execution_count": null,
   "id": "36a1127a",
   "metadata": {},
   "outputs": [],
   "source": []
  },
  {
   "cell_type": "code",
   "execution_count": null,
   "id": "722b1b25",
   "metadata": {},
   "outputs": [],
   "source": []
  }
 ],
 "metadata": {
  "kernelspec": {
   "display_name": "Python 3",
   "language": "python",
   "name": "python3"
  },
  "language_info": {
   "codemirror_mode": {
    "name": "ipython",
    "version": 3
   },
   "file_extension": ".py",
   "mimetype": "text/x-python",
   "name": "python",
   "nbconvert_exporter": "python",
   "pygments_lexer": "ipython3",
   "version": "3.6.8"
  }
 },
 "nbformat": 4,
 "nbformat_minor": 5
}
