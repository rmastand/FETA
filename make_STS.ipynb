{
 "cells": [
  {
   "cell_type": "code",
   "execution_count": 1,
   "id": "f52780f3",
   "metadata": {},
   "outputs": [],
   "source": [
    "import matplotlib.pyplot as plt\n",
    "import matplotlib\n",
    "import numpy as np\n",
    "import pickle\n",
    "\n",
    "import os\n",
    "from helpers.datasets import *\n",
    "from helpers.plotting import *\n",
    "\n",
    "plt.style.use(\"science.mplstyle\")\n",
    "cm = matplotlib.cm.get_cmap('Greens')\n",
    "from matplotlib.backends.backend_pdf import PdfPages as pp\n",
    "\n",
    "np.random.seed(8)"
   ]
  },
  {
   "cell_type": "code",
   "execution_count": 2,
   "id": "b09d0c06",
   "metadata": {},
   "outputs": [],
   "source": [
    "# directories\n",
    "feta_dir = \"/global/home/users/rrmastandrea/FETA/\"\n",
    "\n",
    "STS_config_string = f\"LHCO_STS/\"\n",
    "STS_dir = os.path.join(feta_dir, STS_config_string, \"data\")\n",
    "os.makedirs(STS_dir, exist_ok=True)"
   ]
  },
  {
   "cell_type": "code",
   "execution_count": 3,
   "id": "71038a0c",
   "metadata": {},
   "outputs": [
    {
     "name": "stdout",
     "output_type": "stream",
     "text": [
      "Generating datasets...\n",
      "events_anomalydetection_herwig_features.h5\n",
      "events_anomalydetection_v2.features.h5\n",
      "events_anomalydetection_v2.features.h5\n",
      "SIM shape: (999986, 7)\n",
      "DAT shape: (999881, 7)\n",
      "SIGNAL shape: (99966, 7)\n"
     ]
    }
   ],
   "source": [
    "# dataset generation parameters\n",
    "context_endpoints = (2500, 4500)\n",
    "\n",
    "\n",
    "bands_dict = {\"ob1\": [2500, 2900],\n",
    "              \"sb1\": [2900, 3300],\n",
    "              \"sr\" : [3300, 3700],\n",
    "              \"sb2\": [3700, 4100],\n",
    "              \"ob2\": [4100, 4500]}\n",
    "\n",
    "\n",
    "print(\"Generating datasets...\")\n",
    "\n",
    "bands_to_analyze = [\"sb1\", \"sr\", \"sb2\"]\n",
    "\n",
    "df_sim = get_lhco(sim_type = \"herwig\")\n",
    "data_sim = select_lhco_features(df_sim, feature_type = 0).to_numpy()\n",
    "\n",
    "df_dat = get_lhco(sim_type = \"pythia\")\n",
    "data_dat = select_lhco_features(df_dat, feature_type = 0).to_numpy()\n",
    "\n",
    "df_signal = get_lhco(sim_type = \"pythia\", sm = \"signal\")\n",
    "data_signal = select_lhco_features(df_signal, feature_type = 0).to_numpy()\n",
    "\n",
    "# add an extra column to keep track of sig, bkg information\n",
    "data_sim = np.hstack((data_sim, np.zeros((len(data_sim), 1))))\n",
    "data_dat = np.hstack((data_dat, np.zeros((len(data_dat), 1))))\n",
    "data_signal = np.hstack((data_signal, np.ones((len(data_signal), 1))))\n",
    "\n",
    "print(\"SIM shape:\", data_sim.shape)\n",
    "print(\"DAT shape:\", data_dat.shape)\n",
    "print(\"SIGNAL shape:\", data_signal.shape)\n",
    "\n",
    "n_features = 6"
   ]
  },
  {
   "cell_type": "code",
   "execution_count": 4,
   "id": "0f1ad115",
   "metadata": {},
   "outputs": [],
   "source": [
    "def pull_from_mass_range(dataset, mass_ranges):\n",
    "\n",
    "        \"\"\"\n",
    "        mass_ranges is a list of lists [low_bound, high_bound]\n",
    "        \"\"\"\n",
    "\n",
    "        selected_data = []\n",
    "\n",
    "        for mass_range in mass_ranges:\n",
    "            loc = np.where((dataset[:, 5] >= mass_range[0]) & (dataset[:, 5] < mass_range[1]))[0]\n",
    "            selected_data.append( dataset[loc, :] )\n",
    "        selected_data = np.concatenate(selected_data)\n",
    "        np.random.shuffle(selected_data)\n",
    "\n",
    "        return selected_data\n",
    "\n",
    "def pull_n_signal_events(n, sig_dataset):\n",
    "    \n",
    "    selected_sig_indices = np.random.choice(sig_dataset.shape[0], size=n, replace=False)\n",
    "    selected_sig_events = sig_dataset[selected_sig_indices]\n",
    "    \n",
    "    return(selected_sig_events)"
   ]
  },
  {
   "cell_type": "markdown",
   "id": "7996643f",
   "metadata": {},
   "source": [
    "## Count number of events ber band"
   ]
  },
  {
   "cell_type": "code",
   "execution_count": 5,
   "id": "4470a897",
   "metadata": {},
   "outputs": [
    {
     "name": "stdout",
     "output_type": "stream",
     "text": [
      "Number of events in band sb1:\n",
      "Herwig bkg: 210767\n",
      "Pythia bkg: 212115\n",
      "Pythia sig: 11565\n",
      "\n",
      "Number of events in band sr:\n",
      "Herwig bkg: 121978\n",
      "Pythia bkg: 121339\n",
      "Pythia sig: 75299\n",
      "\n",
      "Number of events in band sb2:\n",
      "Herwig bkg: 68609\n",
      "Pythia bkg: 66646\n",
      "Pythia sig: 8842\n",
      "\n"
     ]
    }
   ],
   "source": [
    "herwig_bkg_dict = {}\n",
    "pythia_bkg_dict = {}\n",
    "pythia_sig_dict = {}\n",
    "\n",
    "num_sig_pythia_events = {}\n",
    "num_bkg_pythia_events = {}\n",
    "\n",
    "for b in bands_to_analyze:\n",
    "    print(f\"Number of events in band {b}:\")\n",
    "    loc = pull_from_mass_range(data_sim, [bands_dict[b]])\n",
    "    herwig_bkg_dict[b] = loc\n",
    "    print(f\"Herwig bkg: {len(loc)}\")\n",
    "    \n",
    "    loc = pull_from_mass_range(data_dat, [bands_dict[b]])\n",
    "    pythia_bkg_dict[b] = loc\n",
    "    num_bkg_pythia_events[b] = len(loc)\n",
    "    print(f\"Pythia bkg: {len(loc)}\")\n",
    "    \n",
    "    loc = pull_from_mass_range(data_signal, [bands_dict[b]])\n",
    "    pythia_sig_dict[b] = loc\n",
    "    num_sig_pythia_events[b] = len(loc)\n",
    "    print(f\"Pythia sig: {len(loc)}\")\n",
    "          \n",
    "    print()\n",
    "\n"
   ]
  },
  {
   "cell_type": "markdown",
   "id": "76f5c1f7",
   "metadata": {},
   "source": [
    "## Pull from sb1 -> sb2 to visualize and get column rescales"
   ]
  },
  {
   "cell_type": "code",
   "execution_count": 6,
   "id": "cb31e03e",
   "metadata": {},
   "outputs": [
    {
     "name": "stdout",
     "output_type": "stream",
     "text": [
      "SIM shape: (401354, 7)\n",
      "DAT shape: (400100, 7)\n",
      "SIGNAL shape: (95706, 7)\n"
     ]
    },
    {
     "data": {
      "image/png": "[encoded data removed]",
      "text/plain": [
       "<Figure size 1728x360 with 6 Axes>"
      ]
     },
     "metadata": {
      "needs_background": "light"
     },
     "output_type": "display_data"
    }
   ],
   "source": [
    "pulls = [bands_dict[b] for b in bands_to_analyze]\n",
    "\n",
    "in_range_herwig_bkg = pull_from_mass_range(data_sim, pulls)\n",
    "in_range_pythia_bkg = pull_from_mass_range(data_dat, pulls)\n",
    "in_range_pythia_sig = pull_from_mass_range(data_signal, pulls)\n",
    "\n",
    "\n",
    "# list of (min, max) to preprocess every column\n",
    "col_minmax = []\n",
    "for col in range(n_features):\n",
    "    col_minmax.append([np.min(in_range_herwig_bkg[:, col]), np.max(in_range_herwig_bkg[:, col])])\n",
    "    \n",
    "\n",
    "print(\"SIM shape:\", in_range_herwig_bkg.shape)\n",
    "print(\"DAT shape:\", in_range_pythia_bkg.shape)\n",
    "print(\"SIGNAL shape:\", in_range_pythia_sig.shape)\n",
    "\n",
    "feature_labels = [r\"$f_0$\", r\"$f_1$\", r\"$f_2$\", r\"$f_3$\", r\"$f_4$\", r\"$f_5$\"]\n",
    "\n",
    "# Plot some features\n",
    "fig = plot_feature_histograms(in_range_herwig_bkg, in_range_pythia_bkg, 40, n_features, feature_labels, \n",
    "                              third_plot = in_range_pythia_sig)\n",
    "fig.show()\n",
    "\n"
   ]
  },
  {
   "cell_type": "markdown",
   "id": "6d53df80",
   "metadata": {},
   "source": [
    "## Generate a standard test set and write out\n",
    "\n",
    "This is the first 20k signal, 20k background events IN THE SR\n"
   ]
  },
  {
   "cell_type": "code",
   "execution_count": 7,
   "id": "3391372a",
   "metadata": {},
   "outputs": [
    {
     "name": "stdout",
     "output_type": "stream",
     "text": [
      "(20000, 6) (20000, 6)\n"
     ]
    },
    {
     "data": {
      "image/png": "[encoded data removed]",
      "text/plain": [
       "<Figure size 504x504 with 1 Axes>"
      ]
     },
     "metadata": {
      "needs_background": "light"
     },
     "output_type": "display_data"
    },
    {
     "name": "stdout",
     "output_type": "stream",
     "text": [
      "[6.32058983e+01 7.13900948e+01 6.10356791e-01 4.37379758e-01\n",
      " 3.51498614e+00 3.48222516e+03]\n",
      "[6.15778008e+01 2.14976997e+01 7.14002861e-01 6.67484140e-01\n",
      " 3.53940192e+00 3.35226632e+03]\n",
      "[2.67096985e+02 3.00035034e+02 3.98741046e-01 1.07757757e-01\n",
      " 3.11928623e+00 3.57810608e+03]\n",
      "[2.41292007e+02 2.30059982e+02 5.96344795e-01 1.46144544e-01\n",
      " 3.57879613e+00 3.57843323e+03]\n"
     ]
    }
   ],
   "source": [
    "n_sts = 20000\n",
    "\n",
    "sts_bkg = pythia_bkg_dict[\"sr\"][:n_sts,:-1]\n",
    "sts_sig = pythia_sig_dict[\"sr\"][:n_sts,:-1]\n",
    "\n",
    "print(sts_bkg.shape, sts_sig.shape)\n",
    "\n",
    "\n",
    "plt.figure()\n",
    "plt.hist(sts_bkg[:,-1], alpha = 0.5, label = \"STS bkg\")\n",
    "plt.hist(sts_sig[:,-1], alpha = 0.5, label = \"STS sig\")\n",
    "plt.legend()\n",
    "plt.show()\n",
    "\n",
    "print(sts_bkg[0])\n",
    "print(sts_bkg[1])\n",
    "print(sts_sig[0])\n",
    "print(sts_sig[1])"
   ]
  },
  {
   "cell_type": "code",
   "execution_count": 8,
   "id": "44563eee",
   "metadata": {},
   "outputs": [],
   "source": [
    "np.save(os.path.join(STS_dir, \"STS_bkg.npy\"), sts_bkg)\n",
    "np.save(os.path.join(STS_dir, \"STS_sig.npy\"), sts_sig)\n",
    "np.save(os.path.join(STS_dir, \"col_minmax.npy\"), col_minmax)"
   ]
  },
  {
   "cell_type": "markdown",
   "id": "647a979d",
   "metadata": {},
   "source": [
    "## Generate the supervised dataset"
   ]
  },
  {
   "cell_type": "code",
   "execution_count": 9,
   "id": "4f257abf",
   "metadata": {},
   "outputs": [
    {
     "data": {
      "image/png": "[encoded data removed]",
      "text/plain": [
       "<Figure size 1728x360 with 6 Axes>"
      ]
     },
     "metadata": {
      "needs_background": "light"
     },
     "output_type": "display_data"
    }
   ],
   "source": [
    "\n",
    "true_sup_bkg = pythia_bkg_dict[\"sr\"][n_sts:,:-1]\n",
    "true_sup_sig = pythia_sig_dict[\"sr\"][n_sts:,:-1]\n",
    "\n",
    "feature_labels = [r\"$f_0$\", r\"$f_1$\", r\"$f_2$\", r\"$f_3$\", r\"$f_4$\", r\"$f_5$\"]\n",
    "\n",
    "\n",
    "fig = plot_feature_histograms(true_sup_bkg, true_sup_sig, 40, n_features, feature_labels)\n",
    "fig.show()\n",
    "\n",
    "np.save(os.path.join(STS_dir, \"true_sup_bkg.npy\"), true_sup_bkg)\n",
    "np.save(os.path.join(STS_dir, \"true_sup_sig.npy\"), true_sup_sig)\n"
   ]
  },
  {
   "cell_type": "code",
   "execution_count": null,
   "id": "f7ec0b86",
   "metadata": {},
   "outputs": [],
   "source": []
  },
  {
   "cell_type": "markdown",
   "id": "9af5df63",
   "metadata": {},
   "source": [
    "## Save out the nonSTS\n",
    "\n",
    "This is a little subtle because although we only pulled the STS from the SR, we need to save out only a portion of the SB to get the proper ratios of events in SB1/SR/SB2"
   ]
  },
  {
   "cell_type": "code",
   "execution_count": 10,
   "id": "3525fa95",
   "metadata": {},
   "outputs": [
    {
     "name": "stdout",
     "output_type": "stream",
     "text": [
      "Dropping 34962 bkg events from band sb1\n",
      "Dropping 3071 sig events from band sb1\n",
      "Dropping 20000 bkg events from band sr\n",
      "Dropping 20000 sig events from band sr\n",
      "Dropping 10985 bkg events from band sb2\n",
      "Dropping 2348 sig events from band sb2\n"
     ]
    }
   ],
   "source": [
    "pythia_bkg_nonSTS = {}\n",
    "pythia_sig_nonSTS = {}\n",
    "\n",
    "frac_pythia_sig_dropped = n_sts / num_sig_pythia_events[\"sr\"]\n",
    "frac_pythia_bkg_dropped = n_sts / num_bkg_pythia_events[\"sr\"]\n",
    "\n",
    "\n",
    "for b in bands_to_analyze:\n",
    "    num_drop_bkg = int(frac_pythia_bkg_dropped*num_bkg_pythia_events[b])\n",
    "    pythia_bkg_nonSTS[b] = pythia_bkg_dict[b][num_drop_bkg:]\n",
    "    print(f\"Dropping {num_drop_bkg} bkg events from band {b}\")\n",
    "    \n",
    "    \n",
    "    num_drop_sig = int(frac_pythia_sig_dropped*num_sig_pythia_events[b])\n",
    "    pythia_sig_nonSTS[b] = pythia_sig_dict[b][num_drop_sig:]\n",
    "    print(f\"Dropping {num_drop_sig} sig events from band {b}\")\n",
    "    \n",
    "\n",
    "pickle.dump( herwig_bkg_dict, open( \"post_STS/herwig_bkg_dict.p\", \"wb\" ) )\n",
    "pickle.dump( pythia_bkg_nonSTS, open( \"post_STS/pythia_bkg_nonSTS.p\", \"wb\" ) )\n",
    "pickle.dump( pythia_sig_nonSTS, open( \"post_STS/pythia_sig_nonSTS.p\", \"wb\" ) )\n",
    "\n",
    "\n",
    "\n",
    "\n"
   ]
  },
  {
   "cell_type": "code",
   "execution_count": null,
   "id": "a0777452",
   "metadata": {},
   "outputs": [],
   "source": []
  },
  {
   "cell_type": "code",
   "execution_count": null,
   "id": "efd04207",
   "metadata": {},
   "outputs": [],
   "source": []
  },
  {
   "cell_type": "code",
   "execution_count": null,
   "id": "aa934c55",
   "metadata": {},
   "outputs": [],
   "source": []
  },
  {
   "cell_type": "code",
   "execution_count": null,
   "id": "9182b31b",
   "metadata": {},
   "outputs": [],
   "source": []
  },
  {
   "cell_type": "code",
   "execution_count": null,
   "id": "8a2447d9",
   "metadata": {},
   "outputs": [],
   "source": []
  },
  {
   "cell_type": "code",
   "execution_count": null,
   "id": "1cafbac1",
   "metadata": {},
   "outputs": [],
   "source": []
  }
 ],
 "metadata": {
  "kernelspec": {
   "display_name": "Python 3",
   "language": "python",
   "name": "python3"
  },
  "language_info": {
   "codemirror_mode": {
    "name": "ipython",
    "version": 3
   },
   "file_extension": ".py",
   "mimetype": "text/x-python",
   "name": "python",
   "nbconvert_exporter": "python",
   "pygments_lexer": "ipython3",
   "version": "3.6.8"
  }
 },
 "nbformat": 4,
 "nbformat_minor": 5
}
