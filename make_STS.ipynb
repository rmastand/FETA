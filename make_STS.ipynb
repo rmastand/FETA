{
 "cells": [
  {
   "cell_type": "code",
   "execution_count": 1,
   "id": "f52780f3",
   "metadata": {},
   "outputs": [
    {
     "name": "stdout",
     "output_type": "stream",
     "text": [
      "Defaulting to user installation because normal site-packages is not writeable\n",
      "Requirement already satisfied: pyyaml in /global/home/users/rrmastandrea/.local/lib/python3.8/site-packages (6.0.1)\n",
      "\n",
      "\u001b[1m[\u001b[0m\u001b[34;49mnotice\u001b[0m\u001b[1;39;49m]\u001b[0m\u001b[39;49m A new release of pip is available: \u001b[0m\u001b[31;49m23.2.1\u001b[0m\u001b[39;49m -> \u001b[0m\u001b[32;49m23.3.1\u001b[0m\n",
      "\u001b[1m[\u001b[0m\u001b[34;49mnotice\u001b[0m\u001b[1;39;49m]\u001b[0m\u001b[39;49m To update, run: \u001b[0m\u001b[32;49mpip install --upgrade pip\u001b[0m\n"
     ]
    }
   ],
   "source": [
    "!pip install pyyaml\n",
    "import matplotlib.pyplot as plt\n",
    "import matplotlib\n",
    "import numpy as np\n",
    "import pickle\n",
    "\n",
    "import os\n",
    "from helpers.datasets import *\n",
    "from helpers.plotting import *\n",
    "\n",
    "plt.style.use(\"science.mplstyle\")\n",
    "cm = matplotlib.cm.get_cmap('Greens')\n",
    "from matplotlib.backends.backend_pdf import PdfPages as pp\n",
    "\n",
    "np.random.seed(8)"
   ]
  },
  {
   "cell_type": "code",
   "execution_count": 2,
   "id": "121ed9da-d6af-458f-9a46-260fcb79fecf",
   "metadata": {},
   "outputs": [],
   "source": [
    "import yaml\n",
    "with open(\"workflow.yaml\", \"r\") as file:\n",
    "    workflow = yaml.safe_load(file)"
   ]
  },
  {
   "cell_type": "code",
   "execution_count": 3,
   "id": "b09d0c06",
   "metadata": {},
   "outputs": [],
   "source": [
    "# directories\n",
    "feta_dir = \"/global/home/users/rrmastandrea/FETA/\"\n",
    "STS_dir = \"/global/home/users/rrmastandrea/FETA/LHCO_STS_{project_id}/data/\".format(project_id = workflow[\"project_id\"])\n",
    "os.makedirs(STS_dir, exist_ok=True)"
   ]
  },
  {
   "cell_type": "code",
   "execution_count": 4,
   "id": "71038a0c",
   "metadata": {},
   "outputs": [
    {
     "name": "stdout",
     "output_type": "stream",
     "text": [
      "Generating datasets...\n",
      "events_anomalydetection_herwig_features.h5\n",
      "events_anomalydetection_v2.features.h5\n",
      "events_anomalydetection_Z_XY_qqq.features.h5\n",
      "SIM shape: (999986, 7)\n",
      "DAT shape: (999881, 7)\n",
      "SIGNAL shape: (99969, 7)\n"
     ]
    }
   ],
   "source": [
    "# dataset generation parameters\n",
    "\n",
    "bands_dict = workflow[\"bands_dict\"]\n",
    "              \n",
    "print(\"Generating datasets...\")\n",
    "\n",
    "bands_to_analyze = [\"sb1\", \"sr\", \"sb2\"]\n",
    "\n",
    "df_sim = get_lhco(sim_type = \"herwig\")\n",
    "data_sim = select_lhco_features(df_sim, feature_type = 0).to_numpy()\n",
    "\n",
    "df_dat = get_lhco(sim_type = \"pythia\")\n",
    "data_dat = select_lhco_features(df_dat, feature_type = 0).to_numpy()\n",
    "\n",
    "#df_signal = get_lhco(sim_type = \"pythia\", sm = \"signal\")\n",
    "#data_signal = select_lhco_features(df_signal, feature_type = 0).to_numpy()\n",
    "df_signal = get_lhco(sim_type = \"3_prong\", sm = \"signal\")\n",
    "data_signal = select_lhco_features(df_signal, feature_type = 0).to_numpy()\n",
    "\n",
    "# add an extra column to keep track of sig, bkg information\n",
    "data_sim = np.hstack((data_sim, np.zeros((len(data_sim), 1))))\n",
    "data_dat = np.hstack((data_dat, np.zeros((len(data_dat), 1))))\n",
    "data_signal = np.hstack((data_signal, np.ones((len(data_signal), 1))))\n",
    "\n",
    "print(\"SIM shape:\", data_sim.shape)\n",
    "print(\"DAT shape:\", data_dat.shape)\n",
    "print(\"SIGNAL shape:\", data_signal.shape)\n",
    "\n",
    "\n",
    "\n",
    "n_features = 6"
   ]
  },
  {
   "cell_type": "code",
   "execution_count": 5,
   "id": "0f1ad115",
   "metadata": {},
   "outputs": [],
   "source": [
    "def pull_from_mass_range(dataset, mass_ranges):\n",
    "\n",
    "        \"\"\"\n",
    "        mass_ranges is a list of lists [low_bound, high_bound]\n",
    "        \"\"\"\n",
    "\n",
    "        selected_data = []\n",
    "\n",
    "        for mass_range in mass_ranges:\n",
    "            loc = np.where((dataset[:, 5] >= mass_range[0]) & (dataset[:, 5] < mass_range[1]))[0]\n",
    "            selected_data.append( dataset[loc, :] )\n",
    "        selected_data = np.concatenate(selected_data)\n",
    "        np.random.shuffle(selected_data)\n",
    "\n",
    "        return selected_data\n",
    "\n",
    "def pull_n_signal_events(n, sig_dataset):\n",
    "    \n",
    "    selected_sig_indices = np.random.choice(sig_dataset.shape[0], size=n, replace=False)\n",
    "    selected_sig_events = sig_dataset[selected_sig_indices]\n",
    "    \n",
    "    return(selected_sig_events)"
   ]
  },
  {
   "cell_type": "markdown",
   "id": "7996643f",
   "metadata": {},
   "source": [
    "## Count number of events ber band"
   ]
  },
  {
   "cell_type": "code",
   "execution_count": 6,
   "id": "4470a897",
   "metadata": {},
   "outputs": [
    {
     "name": "stdout",
     "output_type": "stream",
     "text": [
      "Number of events in band sb1:\n",
      "Herwig bkg: 728210\n",
      "Pythia bkg: 734634\n",
      "Pythia sig: 9308\n",
      "\n",
      "Number of events in band sr:\n",
      "Herwig bkg: 121978\n",
      "Pythia bkg: 121339\n",
      "Pythia sig: 79781\n",
      "\n",
      "Number of events in band sb2:\n",
      "Herwig bkg: 141038\n",
      "Pythia bkg: 135990\n",
      "Pythia sig: 10863\n",
      "\n"
     ]
    }
   ],
   "source": [
    "herwig_bkg_dict = {}\n",
    "pythia_bkg_dict = {}\n",
    "pythia_sig_dict = {}\n",
    "\n",
    "num_sig_pythia_events = {}\n",
    "num_bkg_pythia_events = {}\n",
    "\n",
    "for b in bands_to_analyze:\n",
    "    print(f\"Number of events in band {b}:\")\n",
    "    loc = pull_from_mass_range(data_sim, [bands_dict[b]])\n",
    "    herwig_bkg_dict[b] = loc\n",
    "    print(f\"Herwig bkg: {len(loc)}\")\n",
    "    \n",
    "    loc = pull_from_mass_range(data_dat, [bands_dict[b]])\n",
    "    pythia_bkg_dict[b] = loc\n",
    "    num_bkg_pythia_events[b] = len(loc)\n",
    "    print(f\"Pythia bkg: {len(loc)}\")\n",
    "    \n",
    "    loc = pull_from_mass_range(data_signal, [bands_dict[b]])\n",
    "    pythia_sig_dict[b] = loc\n",
    "    num_sig_pythia_events[b] = len(loc)\n",
    "    print(f\"Pythia sig: {len(loc)}\")\n",
    "          \n",
    "    print()\n",
    "    \n",
    "\n"
   ]
  },
  {
   "cell_type": "markdown",
   "id": "76f5c1f7",
   "metadata": {},
   "source": [
    "## Pull from sb1 -> sb2 to visualize and get column rescales"
   ]
  },
  {
   "cell_type": "code",
   "execution_count": 7,
   "id": "cb31e03e",
   "metadata": {},
   "outputs": [
    {
     "name": "stdout",
     "output_type": "stream",
     "text": [
      "SIM shape: (991226, 7)\n",
      "DAT shape: (991963, 7)\n",
      "SIGNAL shape: (99952, 7)\n"
     ]
    },
    {
     "data": {
      "image/png": "[encoded data removed]",
      "text/plain": [
       "<Figure size 864x576 with 6 Axes>"
      ]
     },
     "metadata": {
      "needs_background": "light"
     },
     "output_type": "display_data"
    }
   ],
   "source": [
    "pulls = [bands_dict[b] for b in bands_to_analyze]\n",
    "\n",
    "in_range_herwig_bkg = pull_from_mass_range(data_sim, pulls)\n",
    "in_range_pythia_bkg = pull_from_mass_range(data_dat, pulls)\n",
    "in_range_pythia_sig = pull_from_mass_range(data_signal, pulls)\n",
    "\n",
    "\n",
    "# list of (min, max) to preprocess every column\n",
    "col_minmax = []\n",
    "for col in range(n_features):\n",
    "    col_minmax.append([np.min(in_range_herwig_bkg[:, col]), np.max(in_range_herwig_bkg[:, col])])\n",
    "    \n",
    "\n",
    "print(\"SIM shape:\", in_range_herwig_bkg.shape)\n",
    "print(\"DAT shape:\", in_range_pythia_bkg.shape)\n",
    "print(\"SIGNAL shape:\", in_range_pythia_sig.shape)\n",
    "\n",
    "feature_labels = [r\"$f_0$\", r\"$f_1$\", r\"$f_2$\", r\"$f_3$\", r\"$f_4$\", r\"$f_5$\"]\n",
    "feature_labels = [r\"$m_{J_1}$ [GeV]\", r\"$\\Delta m_{JJ}$ [GeV]\", r\"$\\tau^{21}_{J_1}$\", r\"$\\tau^{21}_{J_2}$\", \n",
    "                  r\"$\\Delta R_{JJ}$\", r\"$m_{JJ}$ [GeV]\"] \n",
    "\n",
    "\n",
    "# Plot some features\n",
    "#fig = plot_feature_histograms(in_range_herwig_bkg, in_range_pythia_bkg, 40, n_features, feature_labels, \n",
    "#                              third_plot = in_range_pythia_sig)\n",
    "#fig.show()\n",
    "\n",
    "dpi = 800\n",
    "\n",
    "bins = 40\n",
    "sim_color = \"#990000\"\n",
    "dat_color = \"#1c4587\"\n",
    "linewidth = 2\n",
    "\n",
    "fig, ax = plt.subplots(2, 3, figsize = (12, 8))\n",
    "fig.subplots_adjust(right=0.8, left = 0.2)\n",
    "\n",
    "for ax_x in range(2):\n",
    "    for ax_y in range(3):\n",
    "        i = ax_x*3 + ax_y\n",
    "        ax[ax_x, ax_y].hist(in_range_herwig_bkg[:,i], bins = bins, density = True, label = \"Simulation (Bkg.)\", histtype = \"step\", color = sim_color, linewidth = linewidth)\n",
    "        ax[ax_x, ax_y].hist(in_range_pythia_bkg[:,i], bins = bins, density = True, label = \"Data (Bkg.)\", histtype = \"step\", color = dat_color, linewidth = linewidth)\n",
    "        ax[ax_x, ax_y].hist(in_range_pythia_sig[:,i], bins = bins, density = True, label = \"Data (Sig.)\", histtype = \"step\", color = \"green\", linewidth = linewidth)\n",
    "    \n",
    "        ax[ax_x, ax_y].set_xlabel(feature_labels[i], fontsize = 30)\n",
    "        ax[ax_x, ax_y].tick_params(axis='both', which='major', labelsize=20)\n",
    "        ax[ax_x, ax_y].set_yticks([])\n",
    "\n",
    "ax[0,0].set_ylabel(\"Density\", fontsize = 30)  \n",
    "ax[1,0].set_ylabel(\"Density\", fontsize = 30) \n",
    "ax[0,0].legend(fontsize = 19, loc = \"upper right\")  \n",
    "plt.tight_layout()\n",
    "\n",
    "dpi = 800\n",
    "\n",
    "\n",
    "#fig.savefig(f\"paper_plots/features.pdf\", dpi = dpi)\n",
    "\n",
    "\n"
   ]
  },
  {
   "cell_type": "markdown",
   "id": "6d53df80",
   "metadata": {},
   "source": [
    "## Generate a standard test set and write out\n",
    "\n",
    "This is the first 20k signal, 20k background events IN THE SR\n"
   ]
  },
  {
   "cell_type": "code",
   "execution_count": 8,
   "id": "3391372a",
   "metadata": {},
   "outputs": [
    {
     "name": "stdout",
     "output_type": "stream",
     "text": [
      "(20000, 6)\n"
     ]
    },
    {
     "data": {
      "image/png": "[encoded data removed]",
      "text/plain": [
       "<Figure size 432x288 with 1 Axes>"
      ]
     },
     "metadata": {
      "needs_background": "light"
     },
     "output_type": "display_data"
    },
    {
     "name": "stdout",
     "output_type": "stream",
     "text": [
      "[1.08956001e+02 3.95438019e+02 1.83133811e-01 2.34884039e-01\n",
      " 3.13677979e+00 3.52986694e+03]\n",
      "[8.78901978e+01 4.54921814e+02 4.88065094e-01 4.65882450e-01\n",
      " 3.11865163e+00 3.46049561e+03]\n"
     ]
    }
   ],
   "source": [
    "\"\"\"n_sts = 20000\n",
    "\n",
    "sts_bkg = pythia_bkg_dict[\"sr\"][:n_sts,:-1]\n",
    "sts_sig = pythia_sig_dict[\"sr\"][:n_sts,:-1]\n",
    "\n",
    "print(sts_bkg.shape, sts_sig.shape)\n",
    "\n",
    "\n",
    "plt.figure()\n",
    "plt.hist(sts_bkg[:,-1], alpha = 0.5, label = \"STS bkg\")\n",
    "plt.hist(sts_sig[:,-1], alpha = 0.5, label = \"STS sig\")\n",
    "plt.legend()\n",
    "plt.show()\n",
    "\n",
    "print(sts_bkg[0])\n",
    "print(sts_bkg[1])\n",
    "print(sts_sig[0])\n",
    "print(sts_sig[1])\"\"\"\n",
    "\n",
    "\n",
    "\n",
    "n_sts = 20000\n",
    "\n",
    "sts_sig = pythia_sig_dict[\"sr\"][:n_sts,:-1]\n",
    "\n",
    "print(sts_sig.shape)\n",
    "\n",
    "\n",
    "plt.figure()\n",
    "plt.hist(sts_sig[:,-1], alpha = 0.5, label = \"STS sig\")\n",
    "plt.legend()\n",
    "plt.show()\n",
    "\n",
    "\n",
    "print(sts_sig[0])\n",
    "print(sts_sig[1])"
   ]
  },
  {
   "cell_type": "code",
   "execution_count": 9,
   "id": "44563eee",
   "metadata": {},
   "outputs": [
    {
     "name": "stdout",
     "output_type": "stream",
     "text": [
      "(79781, 7)\n"
     ]
    }
   ],
   "source": [
    "#np.save(os.path.join(STS_dir, \"STS_bkg.npy\"), sts_bkg)\n",
    "np.save(os.path.join(STS_dir, \"STS_sig.npy\"), sts_sig)\n",
    "np.save(os.path.join(STS_dir, \"col_minmax.npy\"), col_minmax)\n",
    "\n",
    "\n",
    "print(pythia_sig_dict[\"sr\"].shape)"
   ]
  },
  {
   "cell_type": "markdown",
   "id": "647a979d",
   "metadata": {},
   "source": [
    "## Generate the supervised dataset"
   ]
  },
  {
   "cell_type": "code",
   "execution_count": 10,
   "id": "4f257abf",
   "metadata": {},
   "outputs": [
    {
     "data": {
      "image/png": "[encoded data removed]",
      "text/plain": [
       "<Figure size 1728x360 with 6 Axes>"
      ]
     },
     "metadata": {
      "needs_background": "light"
     },
     "output_type": "display_data"
    }
   ],
   "source": [
    "\"\"\"\n",
    "\n",
    "true_sup_bkg = pythia_bkg_dict[\"sr\"][n_sts:,:-1]\n",
    "true_sup_sig = pythia_sig_dict[\"sr\"][n_sts:,:-1]\n",
    "\n",
    "feature_labels = [r\"$f_0$\", r\"$f_1$\", r\"$f_2$\", r\"$f_3$\", r\"$f_4$\", r\"$f_5$\"]\n",
    "\n",
    "\n",
    "fig = plot_feature_histograms(true_sup_bkg, true_sup_sig, 40, n_features, feature_labels)\n",
    "fig.show()\n",
    "\n",
    "np.save(os.path.join(STS_dir, \"true_sup_bkg.npy\"), true_sup_bkg)\n",
    "np.save(os.path.join(STS_dir, \"true_sup_sig.npy\"), true_sup_sig)\n",
    "\"\"\"\n",
    "\n",
    "#n_left = 55299\n",
    "n_left = 59781 # for 3-prong signal\n",
    "\n",
    "true_sup_bkg = pythia_bkg_dict[\"sr\"][:n_left,:-1]\n",
    "true_sup_sig = pythia_sig_dict[\"sr\"][n_sts:,:-1]\n",
    "\n",
    "feature_labels = [r\"$f_0$\", r\"$f_1$\", r\"$f_2$\", r\"$f_3$\", r\"$f_4$\", r\"$f_5$\"]\n",
    "\n",
    "\n",
    "fig = plot_feature_histograms(true_sup_bkg, true_sup_sig, 40, n_features, feature_labels)\n",
    "fig.show()\n",
    "\n",
    "np.save(os.path.join(STS_dir, \"true_sup_bkg.npy\"), true_sup_bkg)\n",
    "np.save(os.path.join(STS_dir, \"true_sup_sig.npy\"), true_sup_sig)\n"
   ]
  },
  {
   "cell_type": "code",
   "execution_count": null,
   "id": "f7ec0b86",
   "metadata": {},
   "outputs": [],
   "source": []
  },
  {
   "cell_type": "markdown",
   "id": "9af5df63",
   "metadata": {},
   "source": [
    "## Save out the nonSTS\n",
    "\n",
    "This is a little subtle because although we only pulled the STS from the SR, we need to save out only a portion of the SB to get the proper ratios of events in SB1/SR/SB2"
   ]
  },
  {
   "cell_type": "code",
   "execution_count": null,
   "id": "3525fa95",
   "metadata": {},
   "outputs": [],
   "source": [
    "\"\"\"\n",
    "pythia_bkg_nonSTS = {}\n",
    "pythia_sig_nonSTS = {}\n",
    "\n",
    "frac_pythia_sig_dropped = n_sts / num_sig_pythia_events[\"sr\"]\n",
    "frac_pythia_bkg_dropped = n_sts / num_bkg_pythia_events[\"sr\"]\n",
    "\n",
    "\n",
    "for b in bands_to_analyze:\n",
    "    num_drop_bkg = int(frac_pythia_bkg_dropped*num_bkg_pythia_events[b])\n",
    "    pythia_bkg_nonSTS[b] = pythia_bkg_dict[b][num_drop_bkg:]\n",
    "    print(f\"Dropping {num_drop_bkg} bkg events from band {b}\")\n",
    "    \n",
    "    \n",
    "    num_drop_sig = int(frac_pythia_sig_dropped*num_sig_pythia_events[b])\n",
    "    pythia_sig_nonSTS[b] = pythia_sig_dict[b][num_drop_sig:]\n",
    "    print(f\"Dropping {num_drop_sig} sig events from band {b}\")\n",
    "    \n",
    "pickle.dump( herwig_bkg_dict, open( \"post_STS_wide/herwig_bkg_dict.p\", \"wb\" ) )\n",
    "#pickle.dump( pythia_bkg_nonSTS, open( \"post_STS_wide/pythia_bkg_nonSTS.p\", \"wb\" ) )\n",
    "#pickle.dump( pythia_sig_nonSTS, open( \"post_STS_wide/pythia_sig_nonSTS.p\", \"wb\" ) )\n",
    "\"\"\"\n",
    "\n",
    "pythia_sig_nonSTS = {}\n",
    "\n",
    "frac_pythia_sig_dropped = n_sts / num_sig_pythia_events[\"sr\"]\n",
    "\n",
    "for b in bands_to_analyze:\n",
    "    \n",
    "    num_drop_sig = int(frac_pythia_sig_dropped*num_sig_pythia_events[b])\n",
    "    pythia_sig_nonSTS[b] = pythia_sig_dict[b][num_drop_sig:]\n",
    "    print(f\"Dropping {num_drop_sig} sig events from band {b}\")\n",
    "    \n",
    "  \n",
    "pickle.dump( herwig_bkg_dict, open( \"post_STS_wide_3prong/herwig_bkg_dict.p\", \"wb\" ) )\n",
    "pickle.dump( pythia_bkg_dict, open( \"post_STS_wide_3prong/pythia_bkg.p\", \"wb\" ) )\n",
    "pickle.dump( pythia_sig_nonSTS, open( \"post_STS_wide_3prong/pythia_sig_nonSTS.p\", \"wb\" ) )\n",
    "\n",
    "\n"
   ]
  },
  {
   "cell_type": "code",
   "execution_count": null,
   "id": "a0777452",
   "metadata": {},
   "outputs": [],
   "source": []
  },
  {
   "cell_type": "code",
   "execution_count": null,
   "id": "efd04207",
   "metadata": {},
   "outputs": [],
   "source": []
  },
  {
   "cell_type": "code",
   "execution_count": null,
   "id": "aa934c55",
   "metadata": {},
   "outputs": [],
   "source": [
    "for b in bands_to_analyze:\n",
    "\n",
    "\n",
    "    loc_pulls = [bands_dict[b]]\n",
    "\n",
    "    loc_in_range_herwig_bkg = pull_from_mass_range(data_sim, loc_pulls)\n",
    "    loc_in_range_pythia_bkg = pull_from_mass_range(data_dat, loc_pulls)\n",
    "    loc_in_range_pythia_sig = pull_from_mass_range(data_signal, loc_pulls)\n",
    "\n",
    "\n",
    "   \n",
    "    # Plot some features\n",
    "    fig = plot_feature_histograms(loc_in_range_herwig_bkg, loc_in_range_pythia_bkg, 40, n_features, feature_labels, \n",
    "                                  third_plot = loc_in_range_pythia_sig)\n",
    "    fig.show()\n",
    "\n"
   ]
  },
  {
   "cell_type": "code",
   "execution_count": null,
   "id": "9182b31b",
   "metadata": {},
   "outputs": [],
   "source": []
  },
  {
   "cell_type": "code",
   "execution_count": null,
   "id": "8a2447d9",
   "metadata": {},
   "outputs": [],
   "source": []
  },
  {
   "cell_type": "code",
   "execution_count": null,
   "id": "1cafbac1",
   "metadata": {},
   "outputs": [],
   "source": []
  },
  {
   "cell_type": "code",
   "execution_count": null,
   "id": "5a31dfad",
   "metadata": {},
   "outputs": [],
   "source": []
  },
  {
   "cell_type": "code",
   "execution_count": null,
   "id": "f130901f",
   "metadata": {},
   "outputs": [],
   "source": []
  }
 ],
 "metadata": {
  "kernelspec": {
   "display_name": "Python 3",
   "language": "python",
   "name": "python3"
  },
  "language_info": {
   "codemirror_mode": {
    "name": "ipython",
    "version": 3
   },
   "file_extension": ".py",
   "mimetype": "text/x-python",
   "name": "python",
   "nbconvert_exporter": "python",
   "pygments_lexer": "ipython3",
   "version": "3.8.13"
  }
 },
 "nbformat": 4,
 "nbformat_minor": 5
}
