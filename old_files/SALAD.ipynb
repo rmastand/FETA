{
 "cells": [
  {
   "cell_type": "code",
   "execution_count": 1,
   "id": "974871d3",
   "metadata": {},
   "outputs": [],
   "source": [
    "import numpy as np\n",
    "import pandas as pd\n",
    "import matplotlib.pyplot as plt\n",
    "from matplotlib import gridspec\n",
    "\n",
    "from sklearn.model_selection import train_test_split\n",
    "from sklearn.metrics import roc_curve, roc_auc_score\n",
    "from sklearn.utils import shuffle\n",
    "\n",
    "import tensorflow as tf\n",
    "from tensorflow.keras import Sequential\n",
    "from tensorflow.keras.layers import Lambda, Dense, Flatten\n",
    "from keras import backend as K \n",
    "\n",
    "from scipy import interpolate\n",
    "import math\n",
    "\n",
    "import os\n",
    "os.environ[\"CUDA_VISIBLE_DEVICES\"]=\"3\"\n",
    "\n",
    "gpu_options = tf.compat.v1.GPUOptions(per_process_gpu_memory_fraction=0.5)\n",
    "sess = tf.compat.v1.Session(config=tf.compat.v1.ConfigProto(gpu_options=gpu_options))"
   ]
  },
  {
   "cell_type": "code",
   "execution_count": 2,
   "id": "37b04232",
   "metadata": {},
   "outputs": [],
   "source": [
    "from helpers.composite_helpers import *\n",
    "\n",
    "curtains_dir = \"/global/home/users/rrmastandrea/CURTAINS_SALAD/\"\n",
    "\n",
    "run_toy = True\n",
    "\n",
    "if run_toy:\n",
    "    dataset_config_string = \"triangle_npoints100002_nfeatures2\"\n",
    "    num_signal_to_inject = 1\n",
    "    \n",
    "    # load in the reverse rescales\n",
    "    path_to_minmax = f\"/global/home/users/rrmastandrea/CURTAINS_SALAD/{dataset_config_string}/data/col_minmax.npy\"\n",
    "    \n",
    "    # dataset generation parameters\n",
    "   \n",
    "\n",
    "\n",
    "    bands_dict = {\"sb1\": [0, .34],\n",
    "                  \"sr\" : [.34, .66],\n",
    "                  \"sb2\": [.66, 1]}\n",
    "    \n",
    "    n_features = 1\n",
    "\n",
    "\n",
    "else:\n",
    "    n_features = 5\n",
    "    num_signal_to_inject = 2000\n",
    "    dataset_config_string = f\"LHCO_{num_signal_to_inject}sig_f/\"\n",
    "    STS_config_sting = f\"LHCO_STS/\"\n",
    "    \n",
    "    # load in the reverse rescales\n",
    "    path_to_minmax = \"/global/home/users/rrmastandrea/CURTAINS_SALAD/LHCO_STS/data/col_minmax.npy\"\n",
    "\n",
    "    # dataset generation parameters\n",
    "    context_endpoints = (2500, 4500)\n",
    "\n",
    "\n",
    "    bands_dict = {\"sb1\": [2900, 3300],\n",
    "                  \"sr\" : [3300, 3700],\n",
    "                  \"sb2\": [3700, 4100]}\n",
    "\n",
    "    \n"
   ]
  },
  {
   "cell_type": "code",
   "execution_count": 3,
   "id": "95fc3adc",
   "metadata": {},
   "outputs": [
    {
     "name": "stdout",
     "output_type": "stream",
     "text": [
      "Num SIM events in SB: 100002\n",
      "Num DAT events in SB: 68004\n",
      "\n",
      "Preproccessing data...\n",
      "\n"
     ]
    }
   ],
   "source": [
    "    \n",
    "exp_dir = os.path.join(curtains_dir, dataset_config_string)\n",
    "data_dir = os.path.join(exp_dir, \"data\")\n",
    "col_minmax = np.load(path_to_minmax)\n",
    "\n",
    "\n",
    "binning_scheme = np.linspace(-3.5, 3.5, 50)\n",
    "\n",
    "\n",
    "\"\"\"\n",
    "\"\"\"\n",
    "\"\"\"\n",
    "LOAD IN THE DATASETS AND PROCESS\n",
    "\"\"\"\n",
    "\"\"\"\n",
    "\"\"\"\n",
    "\n",
    "npull_dataset_train_sim = ToyDataset(data_dir, \"train_sim.npy\")\n",
    "npull_dataset_val_sim = ToyDataset(data_dir, \"val_sim.npy\")\n",
    "npull_dataset_train_dat = ToyDataset(data_dir, \"train_dat.npy\")\n",
    "npull_dataset_val_dat = ToyDataset(data_dir, \"val_dat.npy\")\n",
    "classif_train_sim = ToyDataset(data_dir, \"classif_train_sim.npy\")\n",
    "classif_train_dat = ToyDataset(data_dir, \"classif_train_dat.npy\")\n",
    "\n",
    "print(\"Num SIM events in SB:\", len(npull_dataset_train_sim)+len(npull_dataset_val_sim))\n",
    "print(\"Num DAT events in SB:\", len(npull_dataset_train_dat)+len(npull_dataset_val_dat))\n",
    "print()\n",
    "\n",
    "# Preprocess the data\n",
    "print(\"Preproccessing data...\")\n",
    "print()\n",
    "dataset_train_sim = npull_dataset_train_sim.pull_from_mass_range([bands_dict[\"sb1\"], bands_dict[\"sb2\"]])\n",
    "dataset_val_sim = npull_dataset_val_sim.pull_from_mass_range([bands_dict[\"sb1\"], bands_dict[\"sb2\"]])\n",
    "dataset_train_dat = npull_dataset_train_dat.pull_from_mass_range([bands_dict[\"sb1\"], bands_dict[\"sb2\"]])\n",
    "dataset_val_dat = npull_dataset_val_dat.pull_from_mass_range([bands_dict[\"sb1\"], bands_dict[\"sb2\"]])\n",
    "\n",
    "dataset_sr_sim = classif_train_sim.pull_from_mass_range([bands_dict[\"sr\"]])\n",
    "dataset_sr_dat = classif_train_dat.pull_from_mass_range([bands_dict[\"sr\"]])\n",
    "\n",
    "dataset_train_sim = minmaxscale(dataset_train_sim.data, col_minmax, lower = -3, upper = 3, forward = True)\n",
    "dataset_val_sim = minmaxscale(dataset_val_sim.data, col_minmax, lower = -3, upper = 3, forward = True)\n",
    "dataset_train_dat = minmaxscale(dataset_train_dat.data, col_minmax, lower = -3, upper = 3, forward = True)\n",
    "dataset_val_dat = minmaxscale(dataset_val_dat.data, col_minmax, lower = -3, upper = 3, forward = True)\n",
    "dataset_sr_sim = minmaxscale(dataset_sr_sim.data, col_minmax, lower = -3, upper = 3, forward = True)\n",
    "dataset_sr_dat = minmaxscale(dataset_sr_dat.data, col_minmax, lower = -3, upper = 3, forward = True)\n",
    "\n",
    "\n"
   ]
  },
  {
   "cell_type": "code",
   "execution_count": 4,
   "id": "07d48584",
   "metadata": {},
   "outputs": [
    {
     "data": {
      "image/png": "[encoded data removed]",
      "text/plain": [
       "<Figure size 432x288 with 1 Axes>"
      ]
     },
     "metadata": {
      "needs_background": "light"
     },
     "output_type": "display_data"
    }
   ],
   "source": [
    "\n",
    "ind = 0\n",
    "\n",
    "plt.figure()\n",
    "\n",
    "plt.hist(dataset_train_sim[:,ind])\n",
    "plt.hist(dataset_train_dat[:,ind])\n",
    "plt.show()\n",
    "\n",
    "\n"
   ]
  },
  {
   "cell_type": "markdown",
   "id": "bcdd5692",
   "metadata": {},
   "source": [
    "# Actually train SALAD"
   ]
  },
  {
   "cell_type": "code",
   "execution_count": 5,
   "id": "1b229273",
   "metadata": {
    "scrolled": true
   },
   "outputs": [
    {
     "name": "stdout",
     "output_type": "stream",
     "text": [
      "Training...\n",
      "WARNING:tensorflow:`epsilon` argument is deprecated and will be removed, use `min_delta` instead.\n",
      "\n",
      "Epoch 00023: ReduceLROnPlateau reducing learning rate to 0.0005000000237487257.\n",
      "done\n"
     ]
    }
   ],
   "source": [
    "#Next is SALAD\n",
    "\n",
    "\n",
    "stored_weights = {}\n",
    "\n",
    "\n",
    "def get_weights(data, model):\n",
    "    yhat = model.predict(data, batch_size=128)\n",
    "    return np.squeeze(yhat/(1 - yhat))\n",
    "\n",
    "\n",
    "X_SALAD_sb_train = np.concatenate([dataset_train_sim, dataset_train_dat])\n",
    "Y_SALAD_sb_train = np.concatenate([np.zeros(len(dataset_train_sim)), np.ones(len(dataset_train_dat))])\n",
    "\n",
    "X_SALAD_val = np.concatenate([dataset_val_sim, dataset_val_dat])\n",
    "Y_SALAD_val = np.concatenate([np.zeros(len(dataset_val_sim)),np.ones(len(dataset_val_dat))])\n",
    "\n",
    "# testing set\n",
    "X_SALAD_sr_train = np.concatenate([dataset_sr_sim, dataset_sr_dat])\n",
    "Y_SALAD_sr_train = np.concatenate([np.zeros(len(dataset_sr_sim)), np.ones(len(dataset_sr_dat))])\n",
    "\n",
    "X_SALAD_sb_train = X_SALAD_sb_train[:,:n_features]\n",
    "X_SALAD_val = X_SALAD_val[:,:n_features]\n",
    "X_SALAD_sr_train = X_SALAD_sr_train[:,:n_features]\n",
    "\n",
    "\n",
    "\n",
    "print('Training...')\n",
    "\n",
    "tf.keras.backend.clear_session()\n",
    "model_SALAD_sb = Sequential()\n",
    "model_SALAD_sb.add(Dense(64, input_dim=n_features, activation='relu')) \n",
    "model_SALAD_sb.add(Dense(64, activation='relu'))\n",
    "model_SALAD_sb.add(Dense(64, activation='relu'))\n",
    "model_SALAD_sb.add(Dense(1, activation='sigmoid'))\n",
    "model_SALAD_sb.compile(loss='binary_crossentropy', optimizer='adam', metrics=['accuracy'])\n",
    "\n",
    "EPOCHS = 70\n",
    "\n",
    "earlyStopping = tf.keras.callbacks.EarlyStopping(monitor='val_loss', patience=10, verbose=0, mode='min')\n",
    "mcp_save = tf.keras.callbacks.ModelCheckpoint(f'{num_signal_to_inject}.mdl_wts.hdf5', save_best_only=True, monitor='val_loss', mode='min')\n",
    "reduce_lr_loss = tf.keras.callbacks.ReduceLROnPlateau(monitor='val_loss', factor=0.5, patience=10, verbose=1, epsilon=1e-7, mode='min')\n",
    "\n",
    "\n",
    "hist_SALAD_sb = model_SALAD_sb.fit(\n",
    "    X_SALAD_sb_train, Y_SALAD_sb_train, epochs=EPOCHS,\n",
    "    batch_size=int(256), verbose=0, callbacks=[earlyStopping, mcp_save, reduce_lr_loss], validation_data=(X_SALAD_val, Y_SALAD_val)\n",
    ")\n",
    "\n",
    "\n",
    "\n",
    "\n",
    "print(\"done\")\n"
   ]
  },
  {
   "cell_type": "code",
   "execution_count": 6,
   "id": "4df9eb7c",
   "metadata": {},
   "outputs": [
    {
     "data": {
      "image/png": "[encoded data removed]",
      "text/plain": [
       "<Figure size 432x288 with 1 Axes>"
      ]
     },
     "metadata": {
      "needs_background": "light"
     },
     "output_type": "display_data"
    },
    {
     "data": {
      "image/png": "[encoded data removed]",
      "text/plain": [
       "<Figure size 432x288 with 1 Axes>"
      ]
     },
     "metadata": {
      "needs_background": "light"
     },
     "output_type": "display_data"
    }
   ],
   "source": [
    "\n",
    "plt.plot(hist_SALAD_sb.history['accuracy'])\n",
    "plt.plot(hist_SALAD_sb.history['val_accuracy'])\n",
    "plt.title('model accuracy')\n",
    "plt.ylabel('accuracy')\n",
    "plt.xlabel('epoch')\n",
    "plt.legend(['train', 'val'], loc='upper left')\n",
    "plt.show()\n",
    "\n",
    "     \n",
    "plt.plot(hist_SALAD_sb.history['loss'])\n",
    "plt.plot(hist_SALAD_sb.history['val_loss'])\n",
    "plt.title('model loss')\n",
    "plt.ylabel('loss')\n",
    "plt.xlabel('epoch')\n",
    "plt.legend(['train', 'val'], loc='upper left')\n",
    "plt.show()"
   ]
  },
  {
   "cell_type": "code",
   "execution_count": 7,
   "id": "6eb3d352",
   "metadata": {},
   "outputs": [
    {
     "name": "stdout",
     "output_type": "stream",
     "text": [
      "Evaluating at best val loss epoch: 12\n"
     ]
    }
   ],
   "source": [
    "model_SALAD_sb.load_weights(f'{num_signal_to_inject}.mdl_wts.hdf5')\n",
    "print(\"Evaluating at best val loss epoch:\", np.argmin(hist_SALAD_sb.history['val_loss']))\n",
    "\n",
    "# apply weight function\n",
    "W_SALAD_sr_train = np.ones_like(Y_SALAD_sr_train)\n",
    "W_SALAD_sr_train[Y_SALAD_sr_train == 0] = get_weights(X_SALAD_sr_train[Y_SALAD_sr_train == 0], \n",
    "                                                     model_SALAD_sb)\n"
   ]
  },
  {
   "cell_type": "code",
   "execution_count": 8,
   "id": "04c66cc9",
   "metadata": {},
   "outputs": [
    {
     "data": {
      "image/png": "[encoded data removed]",
      "text/plain": [
       "<Figure size 432x288 with 1 Axes>"
      ]
     },
     "metadata": {
      "needs_background": "light"
     },
     "output_type": "display_data"
    },
    {
     "name": "stdout",
     "output_type": "stream",
     "text": [
      "(array([0.00000000e+00, 0.00000000e+00, 0.00000000e+00, 6.42415626e-15,\n",
      "       1.61387742e-13, 1.26647444e-12, 9.25745197e-12, 5.91036194e-11,\n",
      "       3.66833154e-10, 2.30308300e-09, 1.38088851e-08, 8.84612503e-08,\n",
      "       5.39145832e-07, 3.21976018e-06, 1.94699981e-05, 1.13318618e-04,\n",
      "       6.71859998e-04, 8.77587797e-03, 6.83664931e-02, 1.43995251e-01,\n",
      "       2.20881829e-01, 2.84968063e-01, 3.61674345e-01, 4.35752084e-01,\n",
      "       5.06354864e-01, 5.67855070e-01, 6.40081440e-01, 7.18702344e-01,\n",
      "       8.29428051e-01, 9.10408791e-01, 9.33213642e-01, 3.68733344e-01,\n",
      "       0.00000000e+00, 0.00000000e+00, 0.00000000e+00, 0.00000000e+00,\n",
      "       0.00000000e+00, 0.00000000e+00, 0.00000000e+00, 0.00000000e+00,\n",
      "       0.00000000e+00, 0.00000000e+00, 0.00000000e+00, 0.00000000e+00,\n",
      "       0.00000000e+00, 0.00000000e+00, 0.00000000e+00, 0.00000000e+00,\n",
      "       0.00000000e+00]), array([-3.5       , -3.35714286, -3.21428571, -3.07142857, -2.92857143,\n",
      "       -2.78571429, -2.64285714, -2.5       , -2.35714286, -2.21428571,\n",
      "       -2.07142857, -1.92857143, -1.78571429, -1.64285714, -1.5       ,\n",
      "       -1.35714286, -1.21428571, -1.07142857, -0.92857143, -0.78571429,\n",
      "       -0.64285714, -0.5       , -0.35714286, -0.21428571, -0.07142857,\n",
      "        0.07142857,  0.21428571,  0.35714286,  0.5       ,  0.64285714,\n",
      "        0.78571429,  0.92857143,  1.07142857,  1.21428571,  1.35714286,\n",
      "        1.5       ,  1.64285714,  1.78571429,  1.92857143,  2.07142857,\n",
      "        2.21428571,  2.35714286,  2.5       ,  2.64285714,  2.78571429,\n",
      "        2.92857143,  3.07142857,  3.21428571,  3.35714286,  3.5       ]), [<matplotlib.patches.Polygon object at 0x7f14fc23d208>])\n"
     ]
    }
   ],
   "source": [
    "# plot with weights\n",
    "plot_weights =  get_weights(dataset_train_sim[:,0], model_SALAD_sb)\n",
    "\n",
    "plt.figure()\n",
    "\n",
    "\n",
    "\n",
    "binning_scheme = np.linspace(-3.5, 3.5, 50)\n",
    "\n",
    "plt.hist(dataset_train_sim[:,0], bins =binning_scheme, density = True, histtype = \"step\", color = \"red\", label = \"sim\")\n",
    "a = plt.hist(dataset_train_sim[:,0],  bins =binning_scheme,weights = plot_weights, density = True, histtype = \"step\", color = \"purple\", label = \"trans\")\n",
    "\n",
    "plt.hist(dataset_train_dat[:,0],  bins =binning_scheme,density = True, histtype = \"step\", color = \"blue\", label = \"dat\")\n",
    "\n",
    "plt.legend()\n",
    "plt.show()\n",
    "\n",
    "\n",
    "print(a)\n"
   ]
  },
  {
   "cell_type": "markdown",
   "id": "6adbac47",
   "metadata": {},
   "source": [
    "# Final evaluation"
   ]
  },
  {
   "cell_type": "code",
   "execution_count": 9,
   "id": "795a8e3b",
   "metadata": {},
   "outputs": [
    {
     "name": "stdout",
     "output_type": "stream",
     "text": [
      "Using device: cuda\n"
     ]
    }
   ],
   "source": [
    "#!/usr/bin/env python\n",
    "# coding: utf-8\n",
    "\n",
    "import torch\n",
    "import os\n",
    "from numba import cuda \n",
    "\n",
    "from helpers.composite_helpers import *\n",
    "\n",
    "\n",
    "device = cuda.get_current_device()\n",
    "device.reset()\n",
    "\n",
    "# set the number of threads that pytorch will use\n",
    "torch.set_num_threads(2)\n",
    "\n",
    "# set gpu device\n",
    "device = torch.device( \"cuda\" if torch.cuda.is_available() else \"cpu\")\n",
    "print( \"Using device: \" + str( device ), flush=True)\n"
   ]
  },
  {
   "cell_type": "markdown",
   "id": "e9b90a61",
   "metadata": {},
   "source": [
    "## Reprocess all the samples"
   ]
  },
  {
   "cell_type": "code",
   "execution_count": 10,
   "id": "94ed9a4e",
   "metadata": {},
   "outputs": [
    {
     "data": {
      "text/plain": [
       "'\\nplt.figure()\\nplt.hist(X_SALAD_sr_train[:,0])\\nplt.show()\\n'"
      ]
     },
     "execution_count": 10,
     "metadata": {},
     "output_type": "execute_result"
    }
   ],
   "source": [
    "X_SALAD_sr_train = minmaxscale(X_SALAD_sr_train, col_minmax, lower = -3, upper = 3, forward = False)\n",
    "X_SALAD_sr_train = minmaxscale(X_SALAD_sr_train, col_minmax, lower = 0, upper = 1, forward = True)\n",
    "\n",
    "\"\"\"\n",
    "plt.figure()\n",
    "plt.hist(X_SALAD_sr_train[:,0])\n",
    "plt.show()\n",
    "\"\"\""
   ]
  },
  {
   "cell_type": "code",
   "execution_count": 11,
   "id": "2a923d70",
   "metadata": {},
   "outputs": [],
   "source": [
    "def loc_analyze_band_transform(dir_to_save, idd, nn_train_data, nn_train_labs, class_weights, test_samp_1, test_samp_2, n_features, n_epochs, batch_size, lr, patience, device, update_epochs = 1, early_stop = True, visualize = True, seed = None):\n",
    "    \n",
    "    if seed is not None:\n",
    "        #print(f\"Using seed {seed}...\")\n",
    "        torch.manual_seed(seed)\n",
    "        np.random.seed(seed)\n",
    "            \n",
    "    dense_net = NeuralNet(input_shape = n_features)\n",
    "    criterion = F.binary_cross_entropy #nn.BCELoss()\n",
    "    optimizer = torch.optim.Adam(dense_net.parameters(), lr=lr)\n",
    "\n",
    "    dense_net.to(device)\n",
    "    \n",
    "    if early_stop:\n",
    "        early_stopping = EarlyStopping(patience=patience)\n",
    "    \n",
    "        \n",
    "    # train-test split\n",
    "    val_size = 0.2\n",
    "    \n",
    "    # train-val split\n",
    "    X_train, X_val, y_train, y_val = train_test_split(nn_train_data, nn_train_labs, test_size=val_size)\n",
    "    \n",
    "\n",
    "    nn_test_data = np.concatenate((test_samp_1, test_samp_2))\n",
    "    nn_test_labs = np.concatenate((torch.zeros((test_samp_1.shape[0], 1)), torch.ones((test_samp_2.shape[0],1))))\n",
    "    # shuffle the data\n",
    "    nn_train_data, nn_train_labs = shuffle(nn_train_data, nn_train_labs)\n",
    "    X_test, y_test = shuffle(nn_test_data, nn_test_labs)\n",
    "\n",
    "    \n",
    "    print(\"Train data, labels shape:\", X_train.shape, y_train.shape)\n",
    "    print(\"Val data, labels shape:\", X_val.shape, y_val.shape)\n",
    "    print(\"Test data, labels  shape:\", X_test.shape, y_test.shape)\n",
    "    \n",
    "    for i in range(X_train.shape[1]):\n",
    "        print(f\"Feature {i} min, max for train: ({np.min(X_train[:,i])},{np.max(X_train[:,i])}), val: ({np.min(X_val[:,i])},{np.max(X_val[:,i])}), test: ({np.min(X_test[:,i])},{np.max(X_test[:,i])})\")  \n",
    "        \n",
    "    # send to device\n",
    "    X_train = np_to_torch(X_train, device)\n",
    "    X_val = np_to_torch(X_val, device)\n",
    "    X_test = np_to_torch(X_test, device)\n",
    "    y_train = np_to_torch(y_train, device)\n",
    "    y_val = np_to_torch(y_val, device)\n",
    "    \n",
    "\n",
    "    epochs, epochs_val = [], []\n",
    "    losses, losses_val = [], []\n",
    "\n",
    "    for epoch in tqdm(range(n_epochs)):\n",
    "        # batching\n",
    "        indices_list = torch.split( torch.randperm( X_train.shape[0] ), batch_size )\n",
    "        # initialise lists to store batch stats\n",
    "        losses_batch_per_e = []\n",
    "        \n",
    "        for i, indices in enumerate( indices_list ): # going through the batches\n",
    "            # calculate the loss, backpropagate\n",
    "            optimizer.zero_grad()\n",
    "            \n",
    "            batch_data = X_train[indices]\n",
    "            batch_labels = y_train[indices]\n",
    "            \n",
    "            # get the weights\n",
    "            batch_weights = (torch.ones(batch_labels.shape, device=device)\n",
    "                        - batch_labels)*class_weights[0] \\\n",
    "                        + batch_labels*class_weights[1]\n",
    "\n",
    "            \n",
    "            loss = criterion(dense_net(batch_data), batch_labels, weight = batch_weights)\n",
    "            \n",
    "            loss.backward()\n",
    "            optimizer.step()\n",
    "            optimizer.zero_grad()\n",
    "            \n",
    "            losses_batch_per_e.append(loss.detach().cpu().numpy())\n",
    "\n",
    "        epochs.append(epoch)\n",
    "        losses.append(np.mean(losses_batch_per_e))\n",
    "        \n",
    "        # validation\n",
    "        if epoch % update_epochs == 0:\n",
    "            \n",
    "            with torch.no_grad():\n",
    "                # batching\n",
    "                val_indices_list = torch.split( torch.randperm( X_val.shape[0] ), batch_size )\n",
    "                # initialise lists to store batch stats\n",
    "                val_losses_batch_per_e = []\n",
    "\n",
    "                for i, indices in enumerate( val_indices_list ): # going through the batches\n",
    "                    # calculate the loss, backpropagate\n",
    "                    optimizer.zero_grad()\n",
    "                    \n",
    "                    batch_data = X_val[indices]\n",
    "                    batch_labels = y_val[indices]\n",
    "\n",
    "                    # get the weights\n",
    "                    batch_weights = (torch.ones(batch_labels.shape, device=device)\n",
    "                                - batch_labels)*class_weights[0] \\\n",
    "                                + batch_labels*class_weights[1]\n",
    "\n",
    "                    \n",
    "                    val_loss = criterion(dense_net(batch_data), batch_labels, weight = batch_weights) \n",
    "\n",
    "                    val_losses_batch_per_e.append(val_loss.detach().cpu().numpy())\n",
    "\n",
    "            epochs_val.append(epoch)\n",
    "            losses_val.append(np.mean(val_losses_batch_per_e))\n",
    "            \n",
    "            if early_stop:\n",
    "                early_stopping(np.mean(val_losses_batch_per_e))\n",
    "                \n",
    "        if early_stopping.early_stop:\n",
    "            break\n",
    "\n",
    "    if visualize:\n",
    "        fig, ax = plt.subplots(1, 1, figsize=(7, 5))\n",
    "        ax.plot(epochs, losses)\n",
    "        ax.plot(epochs_val, losses_val, label = \"val\")\n",
    "        ax.legend()\n",
    "        ax.set_xlabel(\"Epoch\")\n",
    "        ax.set_ylabel(\"Loss\")\n",
    "        ax.set_title(idd)\n",
    "        fname = f\"{dir_to_save}/losses_{idd}\"\n",
    "        fig.savefig(fname)\n",
    "\n",
    "    # evaluate\n",
    "\n",
    "    # since we're not training, we don't need to calculate the gradients for our outputs\n",
    "    with torch.no_grad():\n",
    "        outputs = dense_net(X_test).detach().cpu().numpy()\n",
    "        predicted = np.round(outputs)\n",
    "\n",
    "        # calculate auc \n",
    "        auc = roc_auc_score(y_test, outputs)\n",
    "        fpr, tpr, _ = roc_curve(y_test, outputs)\n",
    "\n",
    "    if visualize:\n",
    "        fig, ax = plt.subplots(1, 1, figsize=(7, 5))\n",
    "        ax.plot(fpr, tpr)\n",
    "        ax.set_xlabel(\"FPR\")\n",
    "        ax.set_ylabel(\"TPR\")\n",
    "        ax.set_title(\"ROC: \" + str(auc))\n",
    "        fname = f\"{dir_to_save}/roc_{idd}\"\n",
    "        fig.savefig(fname)\n",
    "        \n",
    "    np.save(f\"{dir_to_save}/fpr_{idd}\", fpr)\n",
    "    np.save(f\"{dir_to_save}/tpr_{idd}\", tpr)\n",
    "        \n",
    "    if auc < 0.5:\n",
    "        auc = 1.0 - auc\n",
    "    \n",
    "    return auc\n"
   ]
  },
  {
   "cell_type": "code",
   "execution_count": 12,
   "id": "818ca7bf",
   "metadata": {},
   "outputs": [],
   "source": [
    "epochs_NN =  100\n",
    "batch_size_NN = 128\n",
    "lr_NN = 0.001\n",
    "patience_NN = 20\n",
    "\n"
   ]
  },
  {
   "cell_type": "code",
   "execution_count": null,
   "id": "03204db4",
   "metadata": {},
   "outputs": [],
   "source": []
  },
  {
   "cell_type": "code",
   "execution_count": 14,
   "id": "94549a4e",
   "metadata": {},
   "outputs": [
    {
     "name": "stdout",
     "output_type": "stream",
     "text": [
      "Evaluating toy model case...\n",
      "On classifier seed 0...\n"
     ]
    },
    {
     "ename": "NameError",
     "evalue": "name 'STS_bkg_dataset' is not defined",
     "output_type": "error",
     "traceback": [
      "\u001b[0;31m---------------------------------------------------------------------------\u001b[0m",
      "\u001b[0;31mNameError\u001b[0m                                 Traceback (most recent call last)",
      "\u001b[0;32m<ipython-input-14-2d6f8956957c>\u001b[0m in \u001b[0;36m<module>\u001b[0;34m\u001b[0m\n\u001b[1;32m     26\u001b[0m         roc = loc_analyze_band_transform(results_dir, f\"salad_toy_{seed_NN}\", \n\u001b[1;32m     27\u001b[0m                                          \u001b[0mX_SALAD_sr_train\u001b[0m\u001b[0;34m,\u001b[0m \u001b[0mY_SALAD_sr_train\u001b[0m\u001b[0;34m,\u001b[0m \u001b[0mW_SALAD_sr_train\u001b[0m\u001b[0;34m,\u001b[0m\u001b[0;34m\u001b[0m\u001b[0;34m\u001b[0m\u001b[0m\n\u001b[0;32m---> 28\u001b[0;31m                                          \u001b[0mSTS_bkg_dataset\u001b[0m\u001b[0;34m[\u001b[0m\u001b[0;34m:\u001b[0m\u001b[0;34m,\u001b[0m\u001b[0;34m:\u001b[0m\u001b[0;34m-\u001b[0m\u001b[0;36m1\u001b[0m\u001b[0;34m]\u001b[0m\u001b[0;34m,\u001b[0m \u001b[0mSTS_sig_dataset\u001b[0m\u001b[0;34m[\u001b[0m\u001b[0;34m:\u001b[0m\u001b[0;34m,\u001b[0m\u001b[0;34m:\u001b[0m\u001b[0;34m-\u001b[0m\u001b[0;36m1\u001b[0m\u001b[0;34m]\u001b[0m\u001b[0;34m,\u001b[0m\u001b[0;34m\u001b[0m\u001b[0;34m\u001b[0m\u001b[0m\n\u001b[0m\u001b[1;32m     29\u001b[0m                                          \u001b[0mn_features\u001b[0m\u001b[0;34m,\u001b[0m \u001b[0mepochs_NN\u001b[0m\u001b[0;34m,\u001b[0m \u001b[0mbatch_size_NN\u001b[0m\u001b[0;34m,\u001b[0m \u001b[0mlr_NN\u001b[0m\u001b[0;34m,\u001b[0m \u001b[0mpatience_NN\u001b[0m\u001b[0;34m,\u001b[0m \u001b[0mdevice\u001b[0m\u001b[0;34m,\u001b[0m\u001b[0;34m\u001b[0m\u001b[0;34m\u001b[0m\u001b[0m\n\u001b[1;32m     30\u001b[0m                                          visualize = True, seed = seed_NN)\n",
      "\u001b[0;31mNameError\u001b[0m: name 'STS_bkg_dataset' is not defined"
     ]
    }
   ],
   "source": []
  },
  {
   "cell_type": "code",
   "execution_count": null,
   "id": "89db5cf1",
   "metadata": {},
   "outputs": [],
   "source": []
  },
  {
   "cell_type": "code",
   "execution_count": null,
   "id": "b8749ff9",
   "metadata": {},
   "outputs": [],
   "source": []
  },
  {
   "cell_type": "code",
   "execution_count": null,
   "id": "ebf95258",
   "metadata": {},
   "outputs": [],
   "source": []
  },
  {
   "cell_type": "code",
   "execution_count": null,
   "id": "20f433a9",
   "metadata": {},
   "outputs": [],
   "source": []
  },
  {
   "cell_type": "code",
   "execution_count": null,
   "id": "429a9166",
   "metadata": {},
   "outputs": [],
   "source": []
  },
  {
   "cell_type": "code",
   "execution_count": null,
   "id": "5e4baba2",
   "metadata": {},
   "outputs": [],
   "source": []
  },
  {
   "cell_type": "code",
   "execution_count": null,
   "id": "31e3110f",
   "metadata": {},
   "outputs": [],
   "source": []
  },
  {
   "cell_type": "code",
   "execution_count": null,
   "id": "ee03cd30",
   "metadata": {},
   "outputs": [],
   "source": []
  },
  {
   "cell_type": "code",
   "execution_count": null,
   "id": "36a1127a",
   "metadata": {},
   "outputs": [],
   "source": []
  },
  {
   "cell_type": "code",
   "execution_count": null,
   "id": "722b1b25",
   "metadata": {},
   "outputs": [],
   "source": []
  }
 ],
 "metadata": {
  "kernelspec": {
   "display_name": "Python 3",
   "language": "python",
   "name": "python3"
  },
  "language_info": {
   "codemirror_mode": {
    "name": "ipython",
    "version": 3
   },
   "file_extension": ".py",
   "mimetype": "text/x-python",
   "name": "python",
   "nbconvert_exporter": "python",
   "pygments_lexer": "ipython3",
   "version": "3.6.8"
  }
 },
 "nbformat": 4,
 "nbformat_minor": 5
}
