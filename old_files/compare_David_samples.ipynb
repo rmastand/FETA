{
 "cells": [
  {
   "cell_type": "code",
   "execution_count": 5,
   "id": "cb0e0972",
   "metadata": {},
   "outputs": [],
   "source": [
    "import numpy as np\n",
    "import matplotlib.pyplot as plt\n",
    "\n",
    "from helpers.datasets import *"
   ]
  },
  {
   "cell_type": "code",
   "execution_count": 6,
   "id": "c0da5f03",
   "metadata": {},
   "outputs": [],
   "source": [
    "old_herwig_samps = \"/clusterfs/ml4hep/rrmastandrea/LHCO/events_anomalydetection_DelphesHerwig_qcd_features.h5\"\n",
    "new_herwig_samps = \"/clusterfs/ml4hep/rrmastandrea/LHCO/events_anomalydetection_DelphesHerwig_qcd_extra_inneronly_features.h5\"\n",
    "\n",
    "\n",
    "\n",
    "new_bkg_samps = \"/clusterfs/ml4hep/rrmastandrea/LHCO/events_anomalydetection_qcd_extra_inneronly_features.h5\"\n"
   ]
  },
  {
   "cell_type": "code",
   "execution_count": 7,
   "id": "7169d663",
   "metadata": {},
   "outputs": [],
   "source": [
    "def get_lhco_loc(filepath):\n",
    "    \n",
    "    print(filepath)\n",
    "    df = pd.read_hdf(filepath)\n",
    "    # make_slim(df, directory, lhco_filename)\n",
    "\n",
    "    # Reorder the features such that the jets are ordered according to their invariant masses\n",
    "    jet_order_mask = df['mj1'] < df['mj2']\n",
    "    inverted_keys = ['pxj2', 'pyj2', 'pzj2', 'mj2', 'tau1j2', 'tau2j2', 'tau3j2', 'pxj1', 'pyj1', 'pzj1', 'mj1',\n",
    "                     'tau1j1', 'tau2j1', 'tau3j1']\n",
    "    proper_order = df.loc[jet_order_mask]\n",
    "    improper_order = df.loc[~jet_order_mask]\n",
    "    improper_order.columns = inverted_keys\n",
    "    df = pd.concat((proper_order, improper_order))\n",
    "\n",
    "    for jet in ['j1', 'j2']:\n",
    "        df[f'pt{jet}'] = np.sqrt(df[f'px{jet}'] ** 2 + df[f'py{jet}'] ** 2)\n",
    "        df[f'eta{jet}'] = np.arcsinh(df[f'pz{jet}'] / df[f'pt{jet}'])\n",
    "        df[f'phi{jet}'] = np.arctan2(df[f'py{jet}'], df[f'px{jet}'])\n",
    "        df[f'p{jet}'] = np.sqrt(df[f'pz{jet}'] ** 2 + df[f'pt{jet}'] ** 2)\n",
    "        df[f'e{jet}'] = np.sqrt(df[f'm{jet}'] ** 2 + df[f'p{jet}'] ** 2)\n",
    "\n",
    "    data = df[['mj1', 'mj2']].copy()\n",
    "    data['mj2-mj1'] = data['mj2'] - data['mj1']\n",
    "    data[r'$\\tau_{21}^{j_1}$'] = df['tau2j1'] / df['tau1j1']\n",
    "    data[r'$\\tau_{32}^{j_1}$'] = df['tau3j1'] / df['tau2j1']\n",
    "    data[r'$\\tau_{21}^{j_2}$'] = df['tau2j2'] / df['tau1j2']\n",
    "    data[r'$\\tau_{32}^{j_2}$'] = df['tau3j2'] / df['tau2j2']\n",
    "    # data = pd.DataFrame()\n",
    "    data[r'$p_t^{j_1}$'] = df['ptj1']\n",
    "    data[r'$p_t^{j_2}$'] = df['ptj2']\n",
    "    phi_1 = df['phij1']\n",
    "    phi_2 = df['phij2']\n",
    "    delPhi = np.arctan2(np.sin(phi_1 - phi_2), np.cos(phi_1 - phi_2))\n",
    "    data[r'$dR_{jj}$'] = ((df['etaj1'] - df['etaj2']) ** 2 + delPhi ** 2) ** (0.5)\n",
    "\n",
    "    data['delPhi'] = abs(delPhi)\n",
    "    data['delEta'] = abs(df['etaj1'] - df['etaj2'])\n",
    "\n",
    "    data['mjj'] = calculate_mass(\n",
    "        np.sum([df[[f'ej{i}', f'pxj{i}', f'pyj{i}', f'pzj{i}']].to_numpy() for i in range(1, 3)], 0))\n",
    "    return data.dropna()"
   ]
  },
  {
   "cell_type": "code",
   "execution_count": 8,
   "id": "c9ac0e86",
   "metadata": {},
   "outputs": [
    {
     "name": "stdout",
     "output_type": "stream",
     "text": [
      "/clusterfs/ml4hep/rrmastandrea/LHCO/events_anomalydetection_DelphesHerwig_qcd_features.h5\n",
      "/clusterfs/ml4hep/rrmastandrea/LHCO/events_anomalydetection_DelphesHerwig_qcd_extra_inneronly_features.h5\n",
      "/clusterfs/ml4hep/rrmastandrea/LHCO/events_anomalydetection_qcd_extra_inneronly_features.h5\n"
     ]
    }
   ],
   "source": [
    "df_old_herwig = get_lhco_loc(old_herwig_samps)\n",
    "data_old_herwig = select_lhco_features(df_old_herwig, feature_type = 0).to_numpy()\n",
    "\n",
    "df_new_herwig = get_lhco_loc(new_herwig_samps)\n",
    "data_new_herwig = select_lhco_features(df_new_herwig, feature_type = 0).to_numpy()\n",
    "\n",
    "df_extra_bk = get_lhco_loc(new_bkg_samps)\n",
    "data_extra_bk = select_lhco_features(df_extra_bk, feature_type = 0).to_numpy()"
   ]
  },
  {
   "cell_type": "code",
   "execution_count": 9,
   "id": "af975999",
   "metadata": {},
   "outputs": [
    {
     "name": "stdout",
     "output_type": "stream",
     "text": [
      "(999986, 6)\n",
      "(1044782, 6)\n",
      "(612791, 6)\n",
      "(121978, 6)\n"
     ]
    }
   ],
   "source": [
    "print(data_old_herwig.shape)\n",
    "print(data_new_herwig.shape)\n",
    "print(data_extra_bk.shape)\n",
    "\n",
    "# pull the old herwig data from sr\n",
    "\n",
    "\"\"\"\n",
    "bands_dict = {\"ob1\": [2500, 2900],\n",
    "              \"sb1\": [2900, 3300],\n",
    "              \"sr\" : [3300, 3700],\n",
    "              \"sb2\": [3700, 4100],\n",
    "              \"ob2\": [4100, 4500]}\n",
    "\"\"\"\n",
    "\n",
    "bands_dict = {\n",
    "              \"sb1\": [1500, 3300],\n",
    "              \"sr\" : [3300, 3700],\n",
    "              \"sb2\": [3700, 5500]}\n",
    "\n",
    "\n",
    "def pull_from_mass_range(dataset, mass_ranges):\n",
    "\n",
    "        \"\"\"\n",
    "        mass_ranges is a list of lists [low_bound, high_bound]\n",
    "        \"\"\"\n",
    "\n",
    "        selected_data = []\n",
    "\n",
    "        for mass_range in mass_ranges:\n",
    "            loc = np.where((dataset[:, 5] >= mass_range[0]) & (dataset[:, 5] < mass_range[1]))[0]\n",
    "            selected_data.append( dataset[loc, :] )\n",
    "        selected_data = np.concatenate(selected_data)\n",
    "        np.random.shuffle(selected_data)\n",
    "        \n",
    "        \n",
    "        return selected_data\n",
    "\n",
    "in_range_old_herwig = pull_from_mass_range(data_old_herwig, [bands_dict[\"sr\"]])\n",
    "\n",
    "print(in_range_old_herwig.shape)"
   ]
  },
  {
   "cell_type": "code",
   "execution_count": 10,
   "id": "7a28f252",
   "metadata": {},
   "outputs": [
    {
     "data": {
      "image/png": "[encoded data removed]",
      "text/plain": [
       "<Figure size 1440x288 with 6 Axes>"
      ]
     },
     "metadata": {
      "needs_background": "light"
     },
     "output_type": "display_data"
    }
   ],
   "source": [
    "\n",
    "\n",
    "fig, ax = plt.subplots(1, 6, figsize = (20, 4))\n",
    "\n",
    "bins = 50\n",
    "\n",
    "for i in range(6):\n",
    "\n",
    "    ax[i].hist(in_range_old_herwig[:,i], bins, label = \"old\", histtype = \"step\", density = True)\n",
    "    ax[i].hist(data_new_herwig[:,i], bins, label = \"new\", histtype = \"step\", density = True)\n",
    "    ax[i].hist(data_extra_bk[:,i], bins, label = \"extra bkg\", histtype = \"step\", density = True)\n",
    "    \n",
    "    ax[i].legend()\n",
    "\n",
    "fig.show()\n",
    "\n",
    "\n",
    "\n"
   ]
  },
  {
   "cell_type": "code",
   "execution_count": 11,
   "id": "ae707fb3",
   "metadata": {},
   "outputs": [
    {
     "data": {
      "image/png": "[encoded data removed]",
      "text/plain": [
       "<Figure size 1440x288 with 6 Axes>"
      ]
     },
     "metadata": {
      "needs_background": "light"
     },
     "output_type": "display_data"
    }
   ],
   "source": [
    "# minmaxscale extra bkg and save out\n",
    "STS_dir = \"/global/home/users/rrmastandrea/FETA/LHCO_STS_wide/data/\"\n",
    "path_to_minmax = f\"{STS_dir}/col_minmax.npy\"\n",
    "col_minmax = np.load(path_to_minmax)\n",
    "\n",
    "\n",
    "data_extra_bk = minmaxscale(data_extra_bk, col_minmax, lower = 0, upper = 1, forward = True)\n",
    "\n",
    "fig, ax = plt.subplots(1, 6, figsize = (20, 4))\n",
    "\n",
    "bins = 50\n",
    "\n",
    "for i in range(6):\n",
    "\n",
    "    ax[i].hist(data_extra_bk[:,i], bins, label = \"extra bkg\", histtype = \"step\", density = True)\n",
    "    \n",
    "    ax[i].legend()\n",
    "\n",
    "fig.show()\n",
    "\n"
   ]
  },
  {
   "cell_type": "code",
   "execution_count": 12,
   "id": "6fb3612c",
   "metadata": {},
   "outputs": [
    {
     "name": "stdout",
     "output_type": "stream",
     "text": [
      "(292791, 6)\n"
     ]
    }
   ],
   "source": [
    "np.save(f\"{STS_dir}/STS_bkg_extra\", data_extra_bk[:320000])\n",
    "np.save(f\"{STS_dir}/ideal_ad_bkg\", data_extra_bk[320000:])\n",
    "\n",
    "print(data_extra_bk[320000:].shape)\n",
    "\n"
   ]
  },
  {
   "cell_type": "code",
   "execution_count": null,
   "id": "7ff0469f",
   "metadata": {},
   "outputs": [],
   "source": [
    "# preprocess\n",
    "\n",
    "from sklearn.preprocessing import MinMaxScaler\n",
    "\n",
    "my_scaler = MinMaxScaler().fit(in_range_old_herwig)\n",
    "    \n",
    "scaled_old_samps = my_scaler.transform(in_range_old_herwig)\n",
    "scaled_new_samps = my_scaler.transform(data_new_herwig)\n",
    "    \n",
    "    \n",
    "fig, ax = plt.subplots(1, 6, figsize = (20, 4))\n",
    "\n",
    "bins = 50\n",
    "\n",
    "for i in range(6):\n",
    "\n",
    "    ax[i].hist(scaled_old_samps[:,i], bins, label = \"old\", histtype = \"step\", density = True)\n",
    "    ax[i].hist(scaled_new_samps[:,i], bins, label = \"new\", histtype = \"step\", density = True)\n",
    "    \n",
    "    ax[i].legend()\n",
    "\n",
    "fig.show()\n",
    "\n",
    "\n",
    "    \n"
   ]
  },
  {
   "cell_type": "markdown",
   "id": "703f2cd5",
   "metadata": {},
   "source": [
    "# Train a BC to discriminate old from new"
   ]
  },
  {
   "cell_type": "code",
   "execution_count": null,
   "id": "84675119",
   "metadata": {},
   "outputs": [],
   "source": [
    "def ghhghg(train_samp_1, train_samp_2,\n",
    "                           n_features, n_epochs, batch_size, lr, patience, device, \n",
    "                           update_epochs = 1, early_stop = True, visualize = True, seed = None):\n",
    "    \n",
    "    \n",
    "    # save the best model\n",
    "    val_loss_to_beat = 10000\n",
    "    best_epoch = -1\n",
    "    \n",
    "    \n",
    "    if seed is not None:\n",
    "        #print(f\"Using seed {seed}...\")\n",
    "        torch.manual_seed(seed)\n",
    "        np.random.seed(seed)\n",
    "            \n",
    "    dense_net = NeuralNet(input_shape = n_features)\n",
    "    criterion = F.binary_cross_entropy\n",
    "    optimizer = torch.optim.Adam(dense_net.parameters(), lr=lr)\n",
    "\n",
    "    dense_net.to(device)\n",
    "    \n",
    "    if early_stop:\n",
    "        early_stopping = EarlyStopping(patience=patience)\n",
    "    \n",
    "    # make the input and output data\n",
    "    nn_train_data = np.concatenate((train_samp_1, train_samp_2))\n",
    "    nn_train_labs = np.concatenate((torch.zeros((train_samp_1.shape[0], 1)), torch.ones((train_samp_2.shape[0],1))))\n",
    "\n",
    "    # get weights in case we're oversampling\n",
    "    class_weights = class_weight.compute_class_weight('balanced', np.unique(nn_train_labs.reshape(-1)), nn_train_labs.reshape(-1))\n",
    "    class_weights = dict(enumerate(class_weights))\n",
    "    print(class_weights)\n",
    "    \n",
    "    # train-test split\n",
    "    val_size = 0.2\n",
    "    \n",
    "    # train-val split\n",
    "    X_train, X_val, y_train, y_val = train_test_split(nn_train_data, nn_train_labs, test_size=val_size)\n",
    "    \n",
    "    print(\"Train data, labels shape:\", X_train.shape, y_train.shape)\n",
    "    print(\"Val data, labels shape:\", X_val.shape, y_val.shape)\n",
    "   \n",
    "    # send to device\n",
    "    X_train = np_to_torch(X_train, device)\n",
    "    X_val = np_to_torch(X_val, device)\n",
    "    y_train = np_to_torch(y_train, device)\n",
    "    y_val = np_to_torch(y_val, device)\n",
    "\n",
    "    epochs, epochs_val = [], []\n",
    "    losses, losses_val = [], []\n",
    "\n",
    "    for epoch in tqdm(range(n_epochs)):\n",
    "        # batching\n",
    "        indices_list = torch.split( torch.randperm( X_train.shape[0] ), batch_size )\n",
    "        # initialise lists to store batch stats\n",
    "        losses_batch_per_e = []\n",
    "        \n",
    "        for i, indices in enumerate( indices_list ): # going through the batches\n",
    "            # calculate the loss, backpropagate\n",
    "            optimizer.zero_grad()\n",
    "            \n",
    "            batch_data = X_train[indices]\n",
    "            batch_labels = y_train[indices]\n",
    "            \n",
    "            # get the weights\n",
    "            batch_weights = (torch.ones(batch_labels.shape, device=device)\n",
    "                        - batch_labels)*class_weights[0] \\\n",
    "                        + batch_labels*class_weights[1]\n",
    "\n",
    "            \n",
    "            loss = criterion(dense_net(batch_data), batch_labels, weight = batch_weights)\n",
    "            \n",
    "            loss.backward()\n",
    "            optimizer.step()\n",
    "            optimizer.zero_grad()\n",
    "            \n",
    "            losses_batch_per_e.append(loss.detach().cpu().numpy())\n",
    "\n",
    "        epochs.append(epoch)\n",
    "        losses.append(np.mean(losses_batch_per_e))\n",
    "        \n",
    "        # validation\n",
    "        if epoch % update_epochs == 0:\n",
    "            \n",
    "            with torch.no_grad():\n",
    "                # batching\n",
    "                val_indices_list = torch.split( torch.randperm( X_val.shape[0] ), batch_size )\n",
    "                # initialise lists to store batch stats\n",
    "                val_losses_batch_per_e = []\n",
    "\n",
    "                for i, indices in enumerate( val_indices_list ): # going through the batches\n",
    "                    # calculate the loss, backpropagate\n",
    "                    optimizer.zero_grad()\n",
    "                    \n",
    "                    batch_data = X_val[indices]\n",
    "                    batch_labels = y_val[indices]\n",
    "\n",
    "                    # get the weights\n",
    "                    batch_weights = (torch.ones(batch_labels.shape, device=device)\n",
    "                                - batch_labels)*class_weights[0] \\\n",
    "                                + batch_labels*class_weights[1]\n",
    "\n",
    "                    \n",
    "                    val_loss = criterion(dense_net(batch_data), batch_labels, weight = batch_weights) \n",
    "\n",
    "                    val_losses_batch_per_e.append(val_loss.detach().cpu().numpy())\n",
    "\n",
    "            epochs_val.append(epoch)\n",
    "            losses_val.append(np.mean(val_losses_batch_per_e))\n",
    "            \n",
    "        \n",
    "            if early_stop:\n",
    "                early_stopping(np.mean(val_losses_batch_per_e))\n",
    "                \n",
    "        if early_stopping.early_stop:\n",
    "            break\n",
    "\n",
    "    print(\"Done training!\")\n",
    "    if visualize:\n",
    "        fig, ax = plt.subplots(1, 1, figsize=(7, 5))\n",
    "        ax.plot(epochs, losses)\n",
    "        ax.plot(epochs_val, losses_val, label = \"val\")\n",
    "        ax.legend()\n",
    "        ax.set_xlabel(\"Epoch\")\n",
    "        ax.set_ylabel(\"Loss\")\n",
    "        fig.show()\n"
   ]
  },
  {
   "cell_type": "code",
   "execution_count": null,
   "id": "fb38485b",
   "metadata": {},
   "outputs": [],
   "source": [
    "epochs_NN =  100\n",
    "batch_size_NN = 128\n",
    "lr_NN = 0.001\n",
    "patience_NN = 20\n",
    "\n",
    "import torch\n",
    "from numba import cuda \n",
    "\n",
    "from helpers.composite_helpers import *\n",
    "\n",
    "device = cuda.get_current_device()\n",
    "device.reset()\n",
    "\n",
    "# set the number of threads that pytorch will use\n",
    "torch.set_num_threads(2)\n",
    "\n",
    "# set gpu device\n",
    "device = torch.device( \"cuda\" if torch.cuda.is_available() else \"cpu\")\n",
    "print( \"Using device: \" + str( device ), flush=True)\n",
    "\n",
    "\n",
    "roc = ghhghg(scaled_old_samps, scaled_new_samps,\n",
    "             6, epochs_NN, batch_size_NN, lr_NN, patience_NN, device,\n",
    "             visualize = True)\n"
   ]
  },
  {
   "cell_type": "code",
   "execution_count": null,
   "id": "ac0b3452",
   "metadata": {},
   "outputs": [],
   "source": []
  },
  {
   "cell_type": "code",
   "execution_count": null,
   "id": "dba33006",
   "metadata": {},
   "outputs": [],
   "source": []
  },
  {
   "cell_type": "code",
   "execution_count": null,
   "id": "85a44629",
   "metadata": {},
   "outputs": [],
   "source": []
  },
  {
   "cell_type": "code",
   "execution_count": null,
   "id": "4c2b6649",
   "metadata": {},
   "outputs": [],
   "source": []
  },
  {
   "cell_type": "code",
   "execution_count": null,
   "id": "98d81d61",
   "metadata": {},
   "outputs": [],
   "source": []
  }
 ],
 "metadata": {
  "kernelspec": {
   "display_name": "Python 3",
   "language": "python",
   "name": "python3"
  },
  "language_info": {
   "codemirror_mode": {
    "name": "ipython",
    "version": 3
   },
   "file_extension": ".py",
   "mimetype": "text/x-python",
   "name": "python",
   "nbconvert_exporter": "python",
   "pygments_lexer": "ipython3",
   "version": "3.6.8"
  }
 },
 "nbformat": 4,
 "nbformat_minor": 5
}
