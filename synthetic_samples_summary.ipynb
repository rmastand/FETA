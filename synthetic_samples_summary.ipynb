{
 "cells": [
  {
   "cell_type": "code",
   "execution_count": 3,
   "id": "d2354087",
   "metadata": {},
   "outputs": [],
   "source": [
    "import matplotlib.pyplot as plt\n",
    "import matplotlib\n",
    "import numpy as np\n",
    "import torch\n",
    "import os\n",
    "from numba import cuda \n",
    "plt.style.use(\"science.mplstyle\")\n",
    "\n",
    "from helpers.synthesis_plots import *\n",
    "\n",
    "\n",
    "dpi = 800\n"
   ]
  },
  {
   "cell_type": "code",
   "execution_count": 4,
   "id": "0c256b18",
   "metadata": {},
   "outputs": [],
   "source": [
    "results_dir = \"/clusterfs/ml4hep/rrmastandrea/NF_results_SSS/\"\n",
    "\n",
    "n_sig_inj = [0, 300, 500, 750, 1000, 1200, 1500, 2000, 2500, 3000]#, 3500, 4000, 4500, 5000]# 10000]\n",
    "seeds = [x for x in range(20)]\n",
    "\n"
   ]
  },
  {
   "cell_type": "markdown",
   "id": "b931d94d",
   "metadata": {},
   "source": [
    "# Load in\n"
   ]
  },
  {
   "cell_type": "code",
   "execution_count": 5,
   "id": "676f030d",
   "metadata": {
    "scrolled": true
   },
   "outputs": [],
   "source": [
    "x_axis = np.logspace(-8, 0, 400)\n",
    "\n",
    "\n",
    "#keys = [\"full_sup\", \"feta\", \"cathode\", \"curtains\", \"salad\", \"combined\"]\n",
    "keys = [\"full_sup\", \"feta\"]\n",
    "\n",
    "\n",
    "rejections_dict = {k:{n:[] for n in n_sig_inj} for k in keys}\n",
    "                 \n",
    "\n",
    "sics_dict = {k:{n:[] for n in n_sig_inj} for k in keys}\n",
    "\n",
    "max_sics_dict = {k:{n:[] for n in n_sig_inj} for k in keys}\n",
    "\n",
    "\n",
    "for n in n_sig_inj:\n",
    "    \n",
    "    for seed in seeds:\n",
    "        \n",
    "        for k in keys:\n",
    "            \n",
    "            if k == \"full_sup\":\n",
    "                tpr, sic, rejection = get_sic_rejection(k, seed, 0, results_dir)\n",
    "            else: \n",
    "                tpr, sic, rejection = get_sic_rejection(k, seed, n, results_dir)\n",
    "                \n",
    "            \n",
    "            interp_sic = np.interp(x_axis, tpr, sic)\n",
    "            interp_rej = np.interp(x_axis, tpr, rejection)\n",
    "            rejections_dict[k][n].append(interp_rej)\n",
    "            sics_dict[k][n].append(interp_sic)\n",
    "            max_sics_dict[k][n].append(np.nanmax(sic[np.isfinite(sic)]))\n",
    "            "
   ]
  },
  {
   "cell_type": "markdown",
   "id": "0f229e9d",
   "metadata": {},
   "source": [
    "# Take the avg"
   ]
  },
  {
   "cell_type": "code",
   "execution_count": 6,
   "id": "00d60124",
   "metadata": {},
   "outputs": [],
   "source": [
    "\n",
    "mean_rejections_dict = {k:{n:[] for n in n_sig_inj} for k in keys}\n",
    "mean_sics_dict = {k:{n:[] for n in n_sig_inj} for k in keys}\n",
    "mean_max_sics_dict = {k:[[],[]] for k in keys} # mean, stf\n",
    "    \n",
    "   \n",
    "\n",
    "for n in n_sig_inj:\n",
    "    \n",
    "    for k in keys:\n",
    "        \n",
    "        mean_rejections_dict[k][n] = get_mean_std(rejections_dict[k][n])\n",
    "        mean_sics_dict[k][n] = get_mean_std(sics_dict[k][n])\n",
    "        mean_max_sics_dict[k][0].append(np.median(max_sics_dict[k][n]))\n",
    "        mean_max_sics_dict[k][1].append(np.std(max_sics_dict[k][n]))\n",
    "        \n",
    "\n",
    "\n",
    "\n",
    "for k in keys:\n",
    "    mean_max_sics_dict[k][0] = np.array(mean_max_sics_dict[k][0])\n",
    "    mean_max_sics_dict[k][1] = np.array(mean_max_sics_dict[k][1])\n",
    "    \n"
   ]
  },
  {
   "cell_type": "code",
   "execution_count": 7,
   "id": "eb6f9dae",
   "metadata": {},
   "outputs": [],
   "source": [
    "n_to_plot = [3000]\n",
    "\n",
    "colors_dict = {\"full_sup\":\"green\",\n",
    "               \"salad\": \"blue\",\n",
    "               \"feta\": \"purple\",\n",
    "               \"cathode\":\"pink\",\n",
    "               \"curtains\":\"orange\",\n",
    "                \"combined\": \"red\"}\n",
    "\n",
    "labels_dict = {\"full_sup\":\"Full. Sup. \",\n",
    "               \"salad\": \"SALAD\",\n",
    "               \"feta\": \"FETA\",\n",
    "               \"cathode\":\"CATHODE\",\n",
    "               \"curtains\":\"CURTAINs\",\n",
    "                \"combined\": \"Combined\"}\n",
    "\n",
    "\n",
    "l = 3\n",
    "f_1 = 20\n",
    "f_2 = 30"
   ]
  },
  {
   "cell_type": "code",
   "execution_count": null,
   "id": "69a32dad",
   "metadata": {},
   "outputs": [
    {
     "name": "stderr",
     "output_type": "stream",
     "text": [
      "/global/home/users/rrmastandrea/computingML2/lib64/python3.6/site-packages/ipykernel_launcher.py:17: MatplotlibDeprecationWarning: Adding an axes using the same arguments as a previous axes currently reuses the earlier instance.  In a future version, a new instance will always be created and returned.  Meanwhile, this warning can be suppressed, and the future behavior ensured, by passing a unique label to each axes instance.\n"
     ]
    }
   ],
   "source": [
    "num_bkg = 121339\n",
    "\n",
    "x_vals = [n / num_bkg for n in n_sig_inj]\n",
    "\n",
    "\n",
    "\n",
    "fig = plt.figure(figsize = (15, 10)) \n",
    "for k in keys:\n",
    "\n",
    "    plt.plot(x_vals, mean_max_sics_dict[k][0], label = labels_dict[k], color = colors_dict[k], linewidth = l)\n",
    "\n",
    "    plt.fill_between(x_vals, mean_max_sics_dict[k][0] -mean_max_sics_dict[k][1],\n",
    "                        mean_max_sics_dict[k][0] + mean_max_sics_dict[k][1],\n",
    "                         alpha = 0.5, color = colors_dict[k], linewidth = 0)\n",
    "   \n",
    "\n",
    "ax1 = fig.add_subplot(111)\n",
    "ax2 = ax1.twiny()\n",
    "ax2.set_xticks(n_sig_inj)\n",
    "ax2.set_xticklabels(n_sig_inj, size=f_1, rotation = 45)\n",
    "ax2.set_xlabel(r\"$n_\\mathrm{sig}$\", fontsize = f_2, labelpad = 10)\n",
    "\n",
    "\n",
    "ax1.set_xticks(x_vals)\n",
    "ax1.set_xticklabels([f\"{np.round(100*x, 2)}\\%\" for x in x_vals], size=f_1, rotation = 45)\n",
    "ax1.set_xlabel(\"S/B\", fontsize = f_2)\n",
    "\n",
    "ax1.legend(fontsize = f_1, loc = \"lower right\")\n",
    "\n",
    "ax1.set_ylabel(\"max(SIC)\", fontsize = f_2)\n",
    "ax1.tick_params(axis='both', which='major', labelsize=f_1)\n",
    "fig.savefig(f\"paper_plots/maxsic.png\", dpi = dpi)\n",
    "\n",
    "plt.show()\n",
    "\n",
    "\n",
    "\n"
   ]
  },
  {
   "cell_type": "markdown",
   "id": "fb795eaf",
   "metadata": {},
   "source": [
    "# SIC"
   ]
  },
  {
   "cell_type": "code",
   "execution_count": null,
   "id": "ffcdda23",
   "metadata": {},
   "outputs": [],
   "source": [
    "\n",
    "\n",
    "for n in n_to_plot:\n",
    "\n",
    "    fig = plt.figure(figsize = (15, 10))\n",
    "\n",
    "    for k in keys:\n",
    "        plt.plot(x_axis, mean_sics_dict[k][n][0], label = labels_dict[k], color = colors_dict[k], linewidth = l)\n",
    "\n",
    "        plt.fill_between(x_axis, mean_sics_dict[k][n][0] - mean_sics_dict[k][n][1],\n",
    "                         mean_sics_dict[k][n][0] + mean_sics_dict[k][n][1],\n",
    "                         alpha = 0.5, color = colors_dict[k], linewidth = 0)\n",
    "  \n",
    "\n",
    "    plt.plot(x_axis, x_axis/np.sqrt(x_axis), label = \"Random\", color = \"black\", linewidth = l+1)\n",
    "    \n",
    "    plt.text(0.5, 15, f\"$n_S = {n}$\\n$S/B = {np.round(100*n/num_bkg, 2)}\\%$\", fontsize = f_2)\n",
    "\n",
    "    plt.legend(fontsize = f_1)\n",
    "    plt.xlabel(\"Signal Efficiency (True Positive Rate)\", fontsize = f_2)    \n",
    "    plt.ylabel(\"Significance Improvement Characteristic\", fontsize = f_2)\n",
    "    plt.tick_params(axis='both', which='major', labelsize=f_1)\n",
    "    #plt.title(f\"Num injected events: {n}\")\n",
    "    \n",
    "    fig.savefig(f\"paper_plots/sic_{n}.png\", dpi = dpi)\n",
    "    \n",
    "    plt.show()"
   ]
  },
  {
   "cell_type": "markdown",
   "id": "587d733e",
   "metadata": {},
   "source": [
    "# Rejection"
   ]
  },
  {
   "cell_type": "code",
   "execution_count": null,
   "id": "64240d48",
   "metadata": {},
   "outputs": [],
   "source": [
    "for n in n_to_plot:\n",
    "\n",
    "    fig = plt.figure(figsize = (15, 10)) \n",
    "    for k in keys:\n",
    "        plt.plot(x_axis, mean_rejections_dict[k][n][0], label = labels_dict[k], color = colors_dict[k], linewidth = l)\n",
    "\n",
    "        plt.fill_between(x_axis, mean_rejections_dict[k][n][0] - mean_rejections_dict[k][n][1],\n",
    "                         mean_rejections_dict[k][n][0] + mean_rejections_dict[k][n][1],\n",
    "                         alpha = 0.5, color = colors_dict[k], linewidth = 0)\n",
    "\n",
    "    plt.plot(x_axis[184:], 1.0/x_axis[184:], label = \"Random\", color = \"black\", linewidth = l+1)\n",
    "    \n",
    "    plt.text(0.5, 4000, f\"$n_S = {n}$\\n$S/B = {np.round(100*n/num_bkg, 2)}\\%$\", fontsize = f_2)\n",
    "\n",
    "    plt.legend(fontsize = f_1)  \n",
    "    plt.ylim(5e-1, 5e4)\n",
    "    plt.yscale(\"log\")\n",
    "    plt.xlabel(\"Signal Efficiency (True Positive Rate)\", fontsize = f_2)  \n",
    "    plt.ylabel(\"Rejection (1 / False Positive Rate)\", fontsize = f_2)  \n",
    "    #plt.title(f\"Num injected events: {n}\")\n",
    "    plt.tick_params(axis='both', which='major', labelsize=f_1)\n",
    "    \n",
    "    fig.savefig(f\"paper_plots/rej_{n}.png\", dpi = dpi)\n",
    "\n",
    "    plt.show()"
   ]
  },
  {
   "cell_type": "markdown",
   "id": "421ab531",
   "metadata": {},
   "source": [
    "## SIC vs rej"
   ]
  },
  {
   "cell_type": "code",
   "execution_count": null,
   "id": "f7e71876",
   "metadata": {},
   "outputs": [],
   "source": [
    "for n in n_to_plot:\n",
    "\n",
    "    fig = plt.figure(figsize = (15, 10)) \n",
    "    for k in keys:\n",
    "        plt.plot(mean_rejections_dict[k][n][0], mean_sics_dict[k][n][0], label = labels_dict[k], color = colors_dict[k], linewidth = l)\n",
    "\n",
    "        plt.fill_between(mean_rejections_dict[k][n][0], mean_sics_dict[k][n][0] - mean_sics_dict[k][n][1],\n",
    "                         mean_sics_dict[k][n][0] + mean_sics_dict[k][n][1],\n",
    "                         alpha = 0.5, color = colors_dict[k], linewidth = 0)\n",
    "\n",
    "    plt.plot(1.0/x_axis[184:], x_axis[184:]/np.sqrt(x_axis[184:]), label = \"Random\", color = \"black\", linewidth = l+1)\n",
    "    \n",
    "    plt.text(40, 12.5, f\"$n_S = {n}$\\n$S/B = {np.round(100*n/num_bkg, 2)}\\%$\", fontsize = f_2)\n",
    "    plt.legend(fontsize = f_1)\n",
    "    plt.xscale(\"log\")\n",
    "    plt.xlabel(\"Rejection (1 / False Positive Rate)\", fontsize = f_2)  \n",
    "    plt.ylabel(\"Significance Improvement Characteristic\", fontsize = f_2)\n",
    "    #plt.title(f\"Num injected events: {n}\")\n",
    "    plt.tick_params(axis='both', which='major', labelsize=f_1)\n",
    "    fig.savefig(f\"paper_plots/sic_vs_rej_{n}.png\", dpi = dpi)\n",
    "    \n",
    "\n",
    "\n",
    "    plt.show()"
   ]
  },
  {
   "cell_type": "code",
   "execution_count": null,
   "id": "9b69bf7b",
   "metadata": {},
   "outputs": [],
   "source": []
  },
  {
   "cell_type": "code",
   "execution_count": null,
   "id": "09df7f21",
   "metadata": {},
   "outputs": [],
   "source": []
  },
  {
   "cell_type": "code",
   "execution_count": null,
   "id": "d2cc7c37",
   "metadata": {},
   "outputs": [],
   "source": []
  },
  {
   "cell_type": "code",
   "execution_count": null,
   "id": "3beba185",
   "metadata": {},
   "outputs": [],
   "source": []
  },
  {
   "cell_type": "code",
   "execution_count": null,
   "id": "64c45ffa",
   "metadata": {},
   "outputs": [],
   "source": []
  },
  {
   "cell_type": "code",
   "execution_count": null,
   "id": "2023336b",
   "metadata": {},
   "outputs": [],
   "source": []
  }
 ],
 "metadata": {
  "kernelspec": {
   "display_name": "Python 3",
   "language": "python",
   "name": "python3"
  },
  "language_info": {
   "codemirror_mode": {
    "name": "ipython",
    "version": 3
   },
   "file_extension": ".py",
   "mimetype": "text/x-python",
   "name": "python",
   "nbconvert_exporter": "python",
   "pygments_lexer": "ipython3",
   "version": "3.6.8"
  }
 },
 "nbformat": 4,
 "nbformat_minor": 5
}
